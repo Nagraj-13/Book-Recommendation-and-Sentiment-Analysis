{
 "cells": [
  {
   "cell_type": "markdown",
   "metadata": {},
   "source": [
    "# Amazon Books Review Analysis"
   ]
  },
  {
   "cell_type": "markdown",
   "metadata": {},
   "source": [
    "## Importing Dependencies"
   ]
  },
  {
   "cell_type": "code",
   "execution_count": 1,
   "metadata": {
    "execution": {
     "iopub.execute_input": "2023-12-28T20:30:26.623209Z",
     "iopub.status.busy": "2023-12-28T20:30:26.622760Z",
     "iopub.status.idle": "2023-12-28T20:30:44.092674Z",
     "shell.execute_reply": "2023-12-28T20:30:44.091490Z",
     "shell.execute_reply.started": "2023-12-28T20:30:26.623174Z"
    },
    "papermill": {
     "duration": 1.135971,
     "end_time": "2023-01-14T10:11:33.103618",
     "exception": false,
     "start_time": "2023-01-14T10:11:31.967647",
     "status": "completed"
    },
    "tags": [],
    "trusted": true
   },
   "outputs": [
    {
     "name": "stdout",
     "output_type": "stream",
     "text": [
      "Defaulting to user installation because normal site-packages is not writeable\n",
      "Requirement already satisfied: vaderSentiment in c:\\users\\nagaraj\\appdata\\roaming\\python\\python312\\site-packages (3.3.2)\n",
      "Requirement already satisfied: requests in c:\\users\\nagaraj\\appdata\\roaming\\python\\python312\\site-packages (from vaderSentiment) (2.32.3)\n",
      "Requirement already satisfied: charset-normalizer<4,>=2 in c:\\users\\nagaraj\\appdata\\roaming\\python\\python312\\site-packages (from requests->vaderSentiment) (3.4.1)\n",
      "Requirement already satisfied: idna<4,>=2.5 in c:\\users\\nagaraj\\appdata\\roaming\\python\\python312\\site-packages (from requests->vaderSentiment) (3.10)\n",
      "Requirement already satisfied: urllib3<3,>=1.21.1 in c:\\users\\nagaraj\\appdata\\roaming\\python\\python312\\site-packages (from requests->vaderSentiment) (2.3.0)\n",
      "Requirement already satisfied: certifi>=2017.4.17 in c:\\users\\nagaraj\\appdata\\roaming\\python\\python312\\site-packages (from requests->vaderSentiment) (2024.12.14)\n",
      "Defaulting to user installation because normal site-packages is not writeable\n",
      "Requirement already satisfied: wordcloud in c:\\users\\nagaraj\\appdata\\roaming\\python\\python312\\site-packages (1.9.4)\n",
      "Requirement already satisfied: numpy>=1.6.1 in c:\\users\\nagaraj\\appdata\\roaming\\python\\python312\\site-packages (from wordcloud) (1.26.4)\n",
      "Requirement already satisfied: pillow in c:\\users\\nagaraj\\appdata\\roaming\\python\\python312\\site-packages (from wordcloud) (10.4.0)\n",
      "Requirement already satisfied: matplotlib in c:\\users\\nagaraj\\appdata\\roaming\\python\\python312\\site-packages (from wordcloud) (3.10.0)\n",
      "Requirement already satisfied: contourpy>=1.0.1 in c:\\users\\nagaraj\\appdata\\roaming\\python\\python312\\site-packages (from matplotlib->wordcloud) (1.3.1)\n",
      "Requirement already satisfied: cycler>=0.10 in c:\\users\\nagaraj\\appdata\\roaming\\python\\python312\\site-packages (from matplotlib->wordcloud) (0.12.1)\n",
      "Requirement already satisfied: fonttools>=4.22.0 in c:\\users\\nagaraj\\appdata\\roaming\\python\\python312\\site-packages (from matplotlib->wordcloud) (4.55.8)\n",
      "Requirement already satisfied: kiwisolver>=1.3.1 in c:\\users\\nagaraj\\appdata\\roaming\\python\\python312\\site-packages (from matplotlib->wordcloud) (1.4.8)\n",
      "Requirement already satisfied: packaging>=20.0 in c:\\users\\nagaraj\\appdata\\roaming\\python\\python312\\site-packages (from matplotlib->wordcloud) (24.2)\n",
      "Requirement already satisfied: pyparsing>=2.3.1 in c:\\users\\nagaraj\\appdata\\roaming\\python\\python312\\site-packages (from matplotlib->wordcloud) (3.2.1)\n",
      "Requirement already satisfied: python-dateutil>=2.7 in c:\\users\\nagaraj\\appdata\\roaming\\python\\python312\\site-packages (from matplotlib->wordcloud) (2.9.0.post0)\n",
      "Requirement already satisfied: six>=1.5 in c:\\users\\nagaraj\\appdata\\roaming\\python\\python312\\site-packages (from python-dateutil>=2.7->matplotlib->wordcloud) (1.17.0)\n"
     ]
    }
   ],
   "source": [
    "!pip install vaderSentiment\n",
    "!pip install wordcloud\n",
    "import pandas as pd\n",
    "import numpy as np\n",
    "import seaborn as sns\n",
    "import matplotlib.pyplot as plt\n",
    "from vaderSentiment.vaderSentiment import SentimentIntensityAnalyzer\n",
    "from sklearn.metrics import confusion_matrix\n",
    "from sklearn.linear_model import LogisticRegression\n",
    "from wordcloud import WordCloud"
   ]
  },
  {
   "cell_type": "markdown",
   "metadata": {},
   "source": [
    "## Reading Data from file"
   ]
  },
  {
   "cell_type": "code",
   "execution_count": 2,
   "metadata": {
    "execution": {
     "iopub.execute_input": "2023-12-28T20:30:44.095582Z",
     "iopub.status.busy": "2023-12-28T20:30:44.094897Z",
     "iopub.status.idle": "2023-12-28T20:32:04.206272Z",
     "shell.execute_reply": "2023-12-28T20:32:04.205078Z",
     "shell.execute_reply.started": "2023-12-28T20:30:44.095540Z"
    },
    "papermill": {
     "duration": 79.146939,
     "end_time": "2023-01-14T10:12:52.261998",
     "exception": false,
     "start_time": "2023-01-14T10:11:33.115059",
     "status": "completed"
    },
    "tags": [],
    "trusted": true
   },
   "outputs": [],
   "source": [
    "br = pd.read_csv(r\"../Datasets/Books_rating.csv\")\n",
    "bd = pd.read_csv(r\"../Datasets/books_data.csv\")"
   ]
  },
  {
   "cell_type": "code",
   "execution_count": 3,
   "metadata": {
    "execution": {
     "iopub.execute_input": "2023-12-28T20:32:04.208137Z",
     "iopub.status.busy": "2023-12-28T20:32:04.207740Z",
     "iopub.status.idle": "2023-12-28T20:32:04.244695Z",
     "shell.execute_reply": "2023-12-28T20:32:04.243314Z",
     "shell.execute_reply.started": "2023-12-28T20:32:04.208104Z"
    },
    "papermill": {
     "duration": 0.043052,
     "end_time": "2023-01-14T10:12:52.316404",
     "exception": false,
     "start_time": "2023-01-14T10:12:52.273352",
     "status": "completed"
    },
    "tags": [],
    "trusted": true
   },
   "outputs": [
    {
     "data": {
      "text/html": [
       "<div>\n",
       "<style scoped>\n",
       "    .dataframe tbody tr th:only-of-type {\n",
       "        vertical-align: middle;\n",
       "    }\n",
       "\n",
       "    .dataframe tbody tr th {\n",
       "        vertical-align: top;\n",
       "    }\n",
       "\n",
       "    .dataframe thead th {\n",
       "        text-align: right;\n",
       "    }\n",
       "</style>\n",
       "<table border=\"1\" class=\"dataframe\">\n",
       "  <thead>\n",
       "    <tr style=\"text-align: right;\">\n",
       "      <th></th>\n",
       "      <th>Id</th>\n",
       "      <th>Title</th>\n",
       "      <th>Price</th>\n",
       "      <th>User_id</th>\n",
       "      <th>profileName</th>\n",
       "      <th>review/helpfulness</th>\n",
       "      <th>review/score</th>\n",
       "      <th>review/time</th>\n",
       "      <th>review/summary</th>\n",
       "      <th>review/text</th>\n",
       "    </tr>\n",
       "  </thead>\n",
       "  <tbody>\n",
       "    <tr>\n",
       "      <th>0</th>\n",
       "      <td>1882931173</td>\n",
       "      <td>Its Only Art If Its Well Hung!</td>\n",
       "      <td>NaN</td>\n",
       "      <td>AVCGYZL8FQQTD</td>\n",
       "      <td>Jim of Oz \"jim-of-oz\"</td>\n",
       "      <td>7/7</td>\n",
       "      <td>4.0</td>\n",
       "      <td>940636800</td>\n",
       "      <td>Nice collection of Julie Strain images</td>\n",
       "      <td>This is only for Julie Strain fans. It's a col...</td>\n",
       "    </tr>\n",
       "    <tr>\n",
       "      <th>1</th>\n",
       "      <td>0826414346</td>\n",
       "      <td>Dr. Seuss: American Icon</td>\n",
       "      <td>NaN</td>\n",
       "      <td>A30TK6U7DNS82R</td>\n",
       "      <td>Kevin Killian</td>\n",
       "      <td>10/10</td>\n",
       "      <td>5.0</td>\n",
       "      <td>1095724800</td>\n",
       "      <td>Really Enjoyed It</td>\n",
       "      <td>I don't care much for Dr. Seuss but after read...</td>\n",
       "    </tr>\n",
       "    <tr>\n",
       "      <th>2</th>\n",
       "      <td>0826414346</td>\n",
       "      <td>Dr. Seuss: American Icon</td>\n",
       "      <td>NaN</td>\n",
       "      <td>A3UH4UZ4RSVO82</td>\n",
       "      <td>John Granger</td>\n",
       "      <td>10/11</td>\n",
       "      <td>5.0</td>\n",
       "      <td>1078790400</td>\n",
       "      <td>Essential for every personal and Public Library</td>\n",
       "      <td>If people become the books they read and if \"t...</td>\n",
       "    </tr>\n",
       "    <tr>\n",
       "      <th>3</th>\n",
       "      <td>0826414346</td>\n",
       "      <td>Dr. Seuss: American Icon</td>\n",
       "      <td>NaN</td>\n",
       "      <td>A2MVUWT453QH61</td>\n",
       "      <td>Roy E. Perry \"amateur philosopher\"</td>\n",
       "      <td>7/7</td>\n",
       "      <td>4.0</td>\n",
       "      <td>1090713600</td>\n",
       "      <td>Phlip Nel gives silly Seuss a serious treatment</td>\n",
       "      <td>Theodore Seuss Geisel (1904-1991), aka &amp;quot;D...</td>\n",
       "    </tr>\n",
       "    <tr>\n",
       "      <th>4</th>\n",
       "      <td>0826414346</td>\n",
       "      <td>Dr. Seuss: American Icon</td>\n",
       "      <td>NaN</td>\n",
       "      <td>A22X4XUPKF66MR</td>\n",
       "      <td>D. H. Richards \"ninthwavestore\"</td>\n",
       "      <td>3/3</td>\n",
       "      <td>4.0</td>\n",
       "      <td>1107993600</td>\n",
       "      <td>Good academic overview</td>\n",
       "      <td>Philip Nel - Dr. Seuss: American IconThis is b...</td>\n",
       "    </tr>\n",
       "  </tbody>\n",
       "</table>\n",
       "</div>"
      ],
      "text/plain": [
       "           Id                           Title  Price         User_id  \\\n",
       "0  1882931173  Its Only Art If Its Well Hung!    NaN   AVCGYZL8FQQTD   \n",
       "1  0826414346        Dr. Seuss: American Icon    NaN  A30TK6U7DNS82R   \n",
       "2  0826414346        Dr. Seuss: American Icon    NaN  A3UH4UZ4RSVO82   \n",
       "3  0826414346        Dr. Seuss: American Icon    NaN  A2MVUWT453QH61   \n",
       "4  0826414346        Dr. Seuss: American Icon    NaN  A22X4XUPKF66MR   \n",
       "\n",
       "                          profileName review/helpfulness  review/score  \\\n",
       "0               Jim of Oz \"jim-of-oz\"                7/7           4.0   \n",
       "1                       Kevin Killian              10/10           5.0   \n",
       "2                        John Granger              10/11           5.0   \n",
       "3  Roy E. Perry \"amateur philosopher\"                7/7           4.0   \n",
       "4     D. H. Richards \"ninthwavestore\"                3/3           4.0   \n",
       "\n",
       "   review/time                                   review/summary  \\\n",
       "0    940636800           Nice collection of Julie Strain images   \n",
       "1   1095724800                                Really Enjoyed It   \n",
       "2   1078790400  Essential for every personal and Public Library   \n",
       "3   1090713600  Phlip Nel gives silly Seuss a serious treatment   \n",
       "4   1107993600                           Good academic overview   \n",
       "\n",
       "                                         review/text  \n",
       "0  This is only for Julie Strain fans. It's a col...  \n",
       "1  I don't care much for Dr. Seuss but after read...  \n",
       "2  If people become the books they read and if \"t...  \n",
       "3  Theodore Seuss Geisel (1904-1991), aka &quot;D...  \n",
       "4  Philip Nel - Dr. Seuss: American IconThis is b...  "
      ]
     },
     "execution_count": 3,
     "metadata": {},
     "output_type": "execute_result"
    }
   ],
   "source": [
    "br.head(5)"
   ]
  },
  {
   "cell_type": "code",
   "execution_count": 4,
   "metadata": {
    "execution": {
     "iopub.execute_input": "2023-12-28T20:32:04.249022Z",
     "iopub.status.busy": "2023-12-28T20:32:04.248505Z",
     "iopub.status.idle": "2023-12-28T20:32:04.270003Z",
     "shell.execute_reply": "2023-12-28T20:32:04.268627Z",
     "shell.execute_reply.started": "2023-12-28T20:32:04.248977Z"
    },
    "papermill": {
     "duration": 0.030964,
     "end_time": "2023-01-14T10:12:52.359224",
     "exception": false,
     "start_time": "2023-01-14T10:12:52.328260",
     "status": "completed"
    },
    "tags": [],
    "trusted": true
   },
   "outputs": [
    {
     "data": {
      "text/html": [
       "<div>\n",
       "<style scoped>\n",
       "    .dataframe tbody tr th:only-of-type {\n",
       "        vertical-align: middle;\n",
       "    }\n",
       "\n",
       "    .dataframe tbody tr th {\n",
       "        vertical-align: top;\n",
       "    }\n",
       "\n",
       "    .dataframe thead th {\n",
       "        text-align: right;\n",
       "    }\n",
       "</style>\n",
       "<table border=\"1\" class=\"dataframe\">\n",
       "  <thead>\n",
       "    <tr style=\"text-align: right;\">\n",
       "      <th></th>\n",
       "      <th>Title</th>\n",
       "      <th>description</th>\n",
       "      <th>authors</th>\n",
       "      <th>image</th>\n",
       "      <th>previewLink</th>\n",
       "      <th>publisher</th>\n",
       "      <th>publishedDate</th>\n",
       "      <th>infoLink</th>\n",
       "      <th>categories</th>\n",
       "      <th>ratingsCount</th>\n",
       "    </tr>\n",
       "  </thead>\n",
       "  <tbody>\n",
       "    <tr>\n",
       "      <th>0</th>\n",
       "      <td>Its Only Art If Its Well Hung!</td>\n",
       "      <td>NaN</td>\n",
       "      <td>['Julie Strain']</td>\n",
       "      <td>http://books.google.com/books/content?id=DykPA...</td>\n",
       "      <td>http://books.google.nl/books?id=DykPAAAACAAJ&amp;d...</td>\n",
       "      <td>NaN</td>\n",
       "      <td>1996</td>\n",
       "      <td>http://books.google.nl/books?id=DykPAAAACAAJ&amp;d...</td>\n",
       "      <td>['Comics &amp; Graphic Novels']</td>\n",
       "      <td>NaN</td>\n",
       "    </tr>\n",
       "    <tr>\n",
       "      <th>1</th>\n",
       "      <td>Dr. Seuss: American Icon</td>\n",
       "      <td>Philip Nel takes a fascinating look into the k...</td>\n",
       "      <td>['Philip Nel']</td>\n",
       "      <td>http://books.google.com/books/content?id=IjvHQ...</td>\n",
       "      <td>http://books.google.nl/books?id=IjvHQsCn_pgC&amp;p...</td>\n",
       "      <td>A&amp;C Black</td>\n",
       "      <td>2005-01-01</td>\n",
       "      <td>http://books.google.nl/books?id=IjvHQsCn_pgC&amp;d...</td>\n",
       "      <td>['Biography &amp; Autobiography']</td>\n",
       "      <td>NaN</td>\n",
       "    </tr>\n",
       "    <tr>\n",
       "      <th>2</th>\n",
       "      <td>Wonderful Worship in Smaller Churches</td>\n",
       "      <td>This resource includes twelve principles in un...</td>\n",
       "      <td>['David R. Ray']</td>\n",
       "      <td>http://books.google.com/books/content?id=2tsDA...</td>\n",
       "      <td>http://books.google.nl/books?id=2tsDAAAACAAJ&amp;d...</td>\n",
       "      <td>NaN</td>\n",
       "      <td>2000</td>\n",
       "      <td>http://books.google.nl/books?id=2tsDAAAACAAJ&amp;d...</td>\n",
       "      <td>['Religion']</td>\n",
       "      <td>NaN</td>\n",
       "    </tr>\n",
       "    <tr>\n",
       "      <th>3</th>\n",
       "      <td>Whispers of the Wicked Saints</td>\n",
       "      <td>Julia Thomas finds her life spinning out of co...</td>\n",
       "      <td>['Veronica Haddon']</td>\n",
       "      <td>http://books.google.com/books/content?id=aRSIg...</td>\n",
       "      <td>http://books.google.nl/books?id=aRSIgJlq6JwC&amp;d...</td>\n",
       "      <td>iUniverse</td>\n",
       "      <td>2005-02</td>\n",
       "      <td>http://books.google.nl/books?id=aRSIgJlq6JwC&amp;d...</td>\n",
       "      <td>['Fiction']</td>\n",
       "      <td>NaN</td>\n",
       "    </tr>\n",
       "    <tr>\n",
       "      <th>4</th>\n",
       "      <td>Nation Dance: Religion, Identity and Cultural ...</td>\n",
       "      <td>NaN</td>\n",
       "      <td>['Edward Long']</td>\n",
       "      <td>NaN</td>\n",
       "      <td>http://books.google.nl/books?id=399SPgAACAAJ&amp;d...</td>\n",
       "      <td>NaN</td>\n",
       "      <td>2003-03-01</td>\n",
       "      <td>http://books.google.nl/books?id=399SPgAACAAJ&amp;d...</td>\n",
       "      <td>NaN</td>\n",
       "      <td>NaN</td>\n",
       "    </tr>\n",
       "  </tbody>\n",
       "</table>\n",
       "</div>"
      ],
      "text/plain": [
       "                                               Title  \\\n",
       "0                     Its Only Art If Its Well Hung!   \n",
       "1                           Dr. Seuss: American Icon   \n",
       "2              Wonderful Worship in Smaller Churches   \n",
       "3                      Whispers of the Wicked Saints   \n",
       "4  Nation Dance: Religion, Identity and Cultural ...   \n",
       "\n",
       "                                         description              authors  \\\n",
       "0                                                NaN     ['Julie Strain']   \n",
       "1  Philip Nel takes a fascinating look into the k...       ['Philip Nel']   \n",
       "2  This resource includes twelve principles in un...     ['David R. Ray']   \n",
       "3  Julia Thomas finds her life spinning out of co...  ['Veronica Haddon']   \n",
       "4                                                NaN      ['Edward Long']   \n",
       "\n",
       "                                               image  \\\n",
       "0  http://books.google.com/books/content?id=DykPA...   \n",
       "1  http://books.google.com/books/content?id=IjvHQ...   \n",
       "2  http://books.google.com/books/content?id=2tsDA...   \n",
       "3  http://books.google.com/books/content?id=aRSIg...   \n",
       "4                                                NaN   \n",
       "\n",
       "                                         previewLink  publisher publishedDate  \\\n",
       "0  http://books.google.nl/books?id=DykPAAAACAAJ&d...        NaN          1996   \n",
       "1  http://books.google.nl/books?id=IjvHQsCn_pgC&p...  A&C Black    2005-01-01   \n",
       "2  http://books.google.nl/books?id=2tsDAAAACAAJ&d...        NaN          2000   \n",
       "3  http://books.google.nl/books?id=aRSIgJlq6JwC&d...  iUniverse       2005-02   \n",
       "4  http://books.google.nl/books?id=399SPgAACAAJ&d...        NaN    2003-03-01   \n",
       "\n",
       "                                            infoLink  \\\n",
       "0  http://books.google.nl/books?id=DykPAAAACAAJ&d...   \n",
       "1  http://books.google.nl/books?id=IjvHQsCn_pgC&d...   \n",
       "2  http://books.google.nl/books?id=2tsDAAAACAAJ&d...   \n",
       "3  http://books.google.nl/books?id=aRSIgJlq6JwC&d...   \n",
       "4  http://books.google.nl/books?id=399SPgAACAAJ&d...   \n",
       "\n",
       "                      categories  ratingsCount  \n",
       "0    ['Comics & Graphic Novels']           NaN  \n",
       "1  ['Biography & Autobiography']           NaN  \n",
       "2                   ['Religion']           NaN  \n",
       "3                    ['Fiction']           NaN  \n",
       "4                            NaN           NaN  "
      ]
     },
     "execution_count": 4,
     "metadata": {},
     "output_type": "execute_result"
    }
   ],
   "source": [
    "bd.head(5)"
   ]
  },
  {
   "cell_type": "markdown",
   "metadata": {
    "papermill": {
     "duration": 0.011601,
     "end_time": "2023-01-14T10:12:52.382552",
     "exception": false,
     "start_time": "2023-01-14T10:12:52.370951",
     "status": "completed"
    },
    "tags": []
   },
   "source": [
    "## **Data Pre-Processing**"
   ]
  },
  {
   "cell_type": "markdown",
   "metadata": {},
   "source": [
    "### Merging both the dataset"
   ]
  },
  {
   "cell_type": "code",
   "execution_count": 5,
   "metadata": {
    "execution": {
     "iopub.execute_input": "2023-12-28T20:32:04.272449Z",
     "iopub.status.busy": "2023-12-28T20:32:04.271918Z",
     "iopub.status.idle": "2023-12-28T20:32:07.005195Z",
     "shell.execute_reply": "2023-12-28T20:32:07.004091Z",
     "shell.execute_reply.started": "2023-12-28T20:32:04.272403Z"
    },
    "papermill": {
     "duration": 3.242297,
     "end_time": "2023-01-14T10:12:55.636710",
     "exception": false,
     "start_time": "2023-01-14T10:12:52.394413",
     "status": "completed"
    },
    "tags": [],
    "trusted": true
   },
   "outputs": [
    {
     "data": {
      "text/plain": [
       "(3000000, 19)"
      ]
     },
     "execution_count": 5,
     "metadata": {},
     "output_type": "execute_result"
    }
   ],
   "source": [
    "books = pd.merge(br,bd, on = 'Title')\n",
    "books.shape"
   ]
  },
  {
   "cell_type": "markdown",
   "metadata": {},
   "source": [
    "### extracting useful columns"
   ]
  },
  {
   "cell_type": "code",
   "execution_count": 6,
   "metadata": {
    "execution": {
     "iopub.execute_input": "2023-12-28T20:32:07.007234Z",
     "iopub.status.busy": "2023-12-28T20:32:07.006754Z",
     "iopub.status.idle": "2023-12-28T20:32:07.178184Z",
     "shell.execute_reply": "2023-12-28T20:32:07.177212Z",
     "shell.execute_reply.started": "2023-12-28T20:32:07.007191Z"
    },
    "papermill": {
     "duration": 2.606689,
     "end_time": "2023-01-14T10:12:58.255829",
     "exception": false,
     "start_time": "2023-01-14T10:12:55.649140",
     "status": "completed"
    },
    "tags": [],
    "trusted": true
   },
   "outputs": [],
   "source": [
    "df = books[['Title','review/score','review/text','authors','categories','ratingsCount']]"
   ]
  },
  {
   "cell_type": "markdown",
   "metadata": {},
   "source": [
    "### Dropping Duplicates"
   ]
  },
  {
   "cell_type": "code",
   "execution_count": 7,
   "metadata": {
    "execution": {
     "iopub.execute_input": "2023-12-28T20:32:07.180127Z",
     "iopub.status.busy": "2023-12-28T20:32:07.179336Z",
     "iopub.status.idle": "2023-12-28T20:32:13.869699Z",
     "shell.execute_reply": "2023-12-28T20:32:13.868649Z",
     "shell.execute_reply.started": "2023-12-28T20:32:07.180080Z"
    },
    "papermill": {
     "duration": 5.579396,
     "end_time": "2023-01-14T10:13:03.847890",
     "exception": false,
     "start_time": "2023-01-14T10:12:58.268494",
     "status": "completed"
    },
    "tags": [],
    "trusted": true
   },
   "outputs": [
    {
     "name": "stderr",
     "output_type": "stream",
     "text": [
      "C:\\Users\\nagaraj\\AppData\\Local\\Temp\\ipykernel_17252\\3208856916.py:1: SettingWithCopyWarning: \n",
      "A value is trying to be set on a copy of a slice from a DataFrame\n",
      "\n",
      "See the caveats in the documentation: https://pandas.pydata.org/pandas-docs/stable/user_guide/indexing.html#returning-a-view-versus-a-copy\n",
      "  df.drop_duplicates(inplace = True)\n"
     ]
    },
    {
     "data": {
      "text/plain": [
       "(2617289, 6)"
      ]
     },
     "execution_count": 7,
     "metadata": {},
     "output_type": "execute_result"
    }
   ],
   "source": [
    "df.drop_duplicates(inplace = True)\n",
    "df.shape"
   ]
  },
  {
   "cell_type": "code",
   "execution_count": null,
   "metadata": {
    "execution": {
     "iopub.execute_input": "2023-12-28T20:32:13.871789Z",
     "iopub.status.busy": "2023-12-28T20:32:13.871384Z",
     "iopub.status.idle": "2023-12-28T20:32:15.044208Z",
     "shell.execute_reply": "2023-12-28T20:32:15.043133Z",
     "shell.execute_reply.started": "2023-12-28T20:32:13.871752Z"
    },
    "papermill": {
     "duration": 0.71212,
     "end_time": "2023-01-14T10:13:04.573457",
     "exception": false,
     "start_time": "2023-01-14T10:13:03.861337",
     "status": "completed"
    },
    "tags": [],
    "trusted": true
   },
   "outputs": [],
   "source": [
    "df.isna().sum()"
   ]
  },
  {
   "cell_type": "markdown",
   "metadata": {},
   "source": [
    "### Dropping Null Values"
   ]
  },
  {
   "cell_type": "code",
   "execution_count": 8,
   "metadata": {
    "execution": {
     "iopub.execute_input": "2023-12-28T20:32:15.046456Z",
     "iopub.status.busy": "2023-12-28T20:32:15.046003Z",
     "iopub.status.idle": "2023-12-28T20:32:17.067030Z",
     "shell.execute_reply": "2023-12-28T20:32:17.065760Z",
     "shell.execute_reply.started": "2023-12-28T20:32:15.046413Z"
    },
    "papermill": {
     "duration": 1.294736,
     "end_time": "2023-01-14T10:13:05.881293",
     "exception": false,
     "start_time": "2023-01-14T10:13:04.586557",
     "status": "completed"
    },
    "tags": [],
    "trusted": true
   },
   "outputs": [
    {
     "name": "stderr",
     "output_type": "stream",
     "text": [
      "C:\\Users\\nagaraj\\AppData\\Local\\Temp\\ipykernel_17252\\1508174486.py:1: SettingWithCopyWarning: \n",
      "A value is trying to be set on a copy of a slice from a DataFrame\n",
      "\n",
      "See the caveats in the documentation: https://pandas.pydata.org/pandas-docs/stable/user_guide/indexing.html#returning-a-view-versus-a-copy\n",
      "  df.dropna(inplace = True)\n"
     ]
    },
    {
     "data": {
      "text/plain": [
       "Title           0\n",
       "review/score    0\n",
       "review/text     0\n",
       "authors         0\n",
       "categories      0\n",
       "ratingsCount    0\n",
       "dtype: int64"
      ]
     },
     "execution_count": 8,
     "metadata": {},
     "output_type": "execute_result"
    }
   ],
   "source": [
    "df.dropna(inplace = True)\n",
    "df.isna().sum()"
   ]
  },
  {
   "cell_type": "code",
   "execution_count": 9,
   "metadata": {
    "execution": {
     "iopub.execute_input": "2023-12-28T20:32:17.073249Z",
     "iopub.status.busy": "2023-12-28T20:32:17.072801Z",
     "iopub.status.idle": "2023-12-28T20:32:17.717981Z",
     "shell.execute_reply": "2023-12-28T20:32:17.716924Z",
     "shell.execute_reply.started": "2023-12-28T20:32:17.073216Z"
    },
    "papermill": {
     "duration": 0.391517,
     "end_time": "2023-01-14T10:13:06.285068",
     "exception": false,
     "start_time": "2023-01-14T10:13:05.893551",
     "status": "completed"
    },
    "tags": [],
    "trusted": true
   },
   "outputs": [
    {
     "name": "stdout",
     "output_type": "stream",
     "text": [
      "<class 'pandas.core.frame.DataFrame'>\n",
      "Index: 1325891 entries, 47 to 2999999\n",
      "Data columns (total 6 columns):\n",
      " #   Column        Non-Null Count    Dtype  \n",
      "---  ------        --------------    -----  \n",
      " 0   Title         1325891 non-null  object \n",
      " 1   review/score  1325891 non-null  float64\n",
      " 2   review/text   1325891 non-null  object \n",
      " 3   authors       1325891 non-null  object \n",
      " 4   categories    1325891 non-null  object \n",
      " 5   ratingsCount  1325891 non-null  float64\n",
      "dtypes: float64(2), object(4)\n",
      "memory usage: 70.8+ MB\n"
     ]
    }
   ],
   "source": [
    "df.info()"
   ]
  },
  {
   "cell_type": "code",
   "execution_count": 10,
   "metadata": {
    "execution": {
     "iopub.execute_input": "2023-12-28T20:32:17.721657Z",
     "iopub.status.busy": "2023-12-28T20:32:17.721250Z",
     "iopub.status.idle": "2023-12-28T20:32:17.729064Z",
     "shell.execute_reply": "2023-12-28T20:32:17.727857Z",
     "shell.execute_reply.started": "2023-12-28T20:32:17.721625Z"
    },
    "papermill": {
     "duration": 0.030942,
     "end_time": "2023-01-14T10:13:06.329827",
     "exception": false,
     "start_time": "2023-01-14T10:13:06.298885",
     "status": "completed"
    },
    "tags": [],
    "trusted": true
   },
   "outputs": [
    {
     "data": {
      "text/plain": [
       "(1325891, 6)"
      ]
     },
     "execution_count": 10,
     "metadata": {},
     "output_type": "execute_result"
    }
   ],
   "source": [
    "df.shape"
   ]
  },
  {
   "cell_type": "markdown",
   "metadata": {},
   "source": [
    "### Using only the fraction of dataset to reduce the running time on big data"
   ]
  },
  {
   "cell_type": "code",
   "execution_count": 11,
   "metadata": {
    "execution": {
     "iopub.execute_input": "2023-12-28T20:32:17.730827Z",
     "iopub.status.busy": "2023-12-28T20:32:17.730462Z",
     "iopub.status.idle": "2023-12-28T20:32:17.794673Z",
     "shell.execute_reply": "2023-12-28T20:32:17.793567Z",
     "shell.execute_reply.started": "2023-12-28T20:32:17.730798Z"
    },
    "papermill": {
     "duration": 0.103121,
     "end_time": "2023-01-14T10:13:06.445935",
     "exception": false,
     "start_time": "2023-01-14T10:13:06.342814",
     "status": "completed"
    },
    "tags": [],
    "trusted": true
   },
   "outputs": [
    {
     "data": {
      "text/plain": [
       "(15000, 6)"
      ]
     },
     "execution_count": 11,
     "metadata": {},
     "output_type": "execute_result"
    }
   ],
   "source": [
    "data = df.sample(15000)\n",
    "data.shape"
   ]
  },
  {
   "cell_type": "markdown",
   "metadata": {},
   "source": [
    "### Removing brackets and colons from authors name"
   ]
  },
  {
   "cell_type": "code",
   "execution_count": 12,
   "metadata": {
    "execution": {
     "iopub.execute_input": "2023-12-28T20:32:17.796590Z",
     "iopub.status.busy": "2023-12-28T20:32:17.795864Z",
     "iopub.status.idle": "2023-12-28T20:32:17.842944Z",
     "shell.execute_reply": "2023-12-28T20:32:17.841927Z",
     "shell.execute_reply.started": "2023-12-28T20:32:17.796554Z"
    },
    "papermill": {
     "duration": 0.737052,
     "end_time": "2023-01-14T10:13:07.195742",
     "exception": false,
     "start_time": "2023-01-14T10:13:06.458690",
     "status": "completed"
    },
    "tags": [],
    "trusted": true
   },
   "outputs": [],
   "source": [
    "data['authors'] = data['authors'].str.extract(r'\\'(.*)\\'')"
   ]
  },
  {
   "cell_type": "markdown",
   "metadata": {},
   "source": [
    "### Removes brackets and colons from categories"
   ]
  },
  {
   "cell_type": "code",
   "execution_count": 13,
   "metadata": {
    "execution": {
     "iopub.execute_input": "2023-12-28T20:32:17.844584Z",
     "iopub.status.busy": "2023-12-28T20:32:17.844193Z",
     "iopub.status.idle": "2023-12-28T20:32:17.885144Z",
     "shell.execute_reply": "2023-12-28T20:32:17.884093Z",
     "shell.execute_reply.started": "2023-12-28T20:32:17.844547Z"
    },
    "trusted": true
   },
   "outputs": [],
   "source": [
    "data['categories'] = data['categories'].str.extract(r'\\'(.*)\\'')"
   ]
  },
  {
   "cell_type": "markdown",
   "metadata": {},
   "source": [
    "### Counting the length of each review"
   ]
  },
  {
   "cell_type": "code",
   "execution_count": null,
   "metadata": {
    "execution": {
     "iopub.execute_input": "2023-12-28T20:32:17.886725Z",
     "iopub.status.busy": "2023-12-28T20:32:17.886398Z",
     "iopub.status.idle": "2023-12-28T20:32:18.054679Z",
     "shell.execute_reply": "2023-12-28T20:32:18.053838Z",
     "shell.execute_reply.started": "2023-12-28T20:32:17.886696Z"
    },
    "papermill": {
     "duration": 0.737052,
     "end_time": "2023-01-14T10:13:07.195742",
     "exception": false,
     "start_time": "2023-01-14T10:13:06.458690",
     "status": "completed"
    },
    "tags": [],
    "trusted": true
   },
   "outputs": [],
   "source": [
    "data['word_count'] = data['review/text'].apply(lambda x: len(x.split(' ')))"
   ]
  },
  {
   "cell_type": "code",
   "execution_count": 14,
   "metadata": {
    "execution": {
     "iopub.execute_input": "2023-12-28T20:32:18.056590Z",
     "iopub.status.busy": "2023-12-28T20:32:18.056013Z",
     "iopub.status.idle": "2023-12-28T20:32:18.071059Z",
     "shell.execute_reply": "2023-12-28T20:32:18.069904Z",
     "shell.execute_reply.started": "2023-12-28T20:32:18.056556Z"
    },
    "papermill": {
     "duration": 0.737052,
     "end_time": "2023-01-14T10:13:07.195742",
     "exception": false,
     "start_time": "2023-01-14T10:13:06.458690",
     "status": "completed"
    },
    "tags": [],
    "trusted": true
   },
   "outputs": [
    {
     "data": {
      "text/html": [
       "<div>\n",
       "<style scoped>\n",
       "    .dataframe tbody tr th:only-of-type {\n",
       "        vertical-align: middle;\n",
       "    }\n",
       "\n",
       "    .dataframe tbody tr th {\n",
       "        vertical-align: top;\n",
       "    }\n",
       "\n",
       "    .dataframe thead th {\n",
       "        text-align: right;\n",
       "    }\n",
       "</style>\n",
       "<table border=\"1\" class=\"dataframe\">\n",
       "  <thead>\n",
       "    <tr style=\"text-align: right;\">\n",
       "      <th></th>\n",
       "      <th>Title</th>\n",
       "      <th>review/score</th>\n",
       "      <th>review/text</th>\n",
       "      <th>authors</th>\n",
       "      <th>categories</th>\n",
       "      <th>ratingsCount</th>\n",
       "    </tr>\n",
       "  </thead>\n",
       "  <tbody>\n",
       "    <tr>\n",
       "      <th>1158330</th>\n",
       "      <td>Learning the vi Editor</td>\n",
       "      <td>5.0</td>\n",
       "      <td>I have used this book at my workplace for some...</td>\n",
       "      <td>Arnold Robbins', 'Elbert Hannah', 'Linda Lamb</td>\n",
       "      <td>Computers</td>\n",
       "      <td>2.0</td>\n",
       "    </tr>\n",
       "    <tr>\n",
       "      <th>1121827</th>\n",
       "      <td>A Separate Peace</td>\n",
       "      <td>1.0</td>\n",
       "      <td>I read this book in my 11th grade English clas...</td>\n",
       "      <td>John Knowles</td>\n",
       "      <td>Fiction</td>\n",
       "      <td>6.0</td>\n",
       "    </tr>\n",
       "    <tr>\n",
       "      <th>384219</th>\n",
       "      <td>Die in Plain Sight : A Novel of Suspense (LOWE...</td>\n",
       "      <td>5.0</td>\n",
       "      <td>Another wonderful suspense/ romance from Eliza...</td>\n",
       "      <td>Elizabeth Lowell</td>\n",
       "      <td>Fiction</td>\n",
       "      <td>3.0</td>\n",
       "    </tr>\n",
       "    <tr>\n",
       "      <th>691862</th>\n",
       "      <td>Holidays on Ice</td>\n",
       "      <td>3.0</td>\n",
       "      <td>I intended the item to be a Christmas gift, bu...</td>\n",
       "      <td>David Sedaris</td>\n",
       "      <td>Humor</td>\n",
       "      <td>3294.0</td>\n",
       "    </tr>\n",
       "    <tr>\n",
       "      <th>136736</th>\n",
       "      <td>The Princess Bride</td>\n",
       "      <td>5.0</td>\n",
       "      <td>With over 500 reviews already on the board, th...</td>\n",
       "      <td>Cary Elwes', 'Joe Layden</td>\n",
       "      <td>Biography &amp; Autobiography</td>\n",
       "      <td>34.0</td>\n",
       "    </tr>\n",
       "  </tbody>\n",
       "</table>\n",
       "</div>"
      ],
      "text/plain": [
       "                                                     Title  review/score  \\\n",
       "1158330                             Learning the vi Editor           5.0   \n",
       "1121827                                   A Separate Peace           1.0   \n",
       "384219   Die in Plain Sight : A Novel of Suspense (LOWE...           5.0   \n",
       "691862                                     Holidays on Ice           3.0   \n",
       "136736                                  The Princess Bride           5.0   \n",
       "\n",
       "                                               review/text  \\\n",
       "1158330  I have used this book at my workplace for some...   \n",
       "1121827  I read this book in my 11th grade English clas...   \n",
       "384219   Another wonderful suspense/ romance from Eliza...   \n",
       "691862   I intended the item to be a Christmas gift, bu...   \n",
       "136736   With over 500 reviews already on the board, th...   \n",
       "\n",
       "                                               authors  \\\n",
       "1158330  Arnold Robbins', 'Elbert Hannah', 'Linda Lamb   \n",
       "1121827                                   John Knowles   \n",
       "384219                                Elizabeth Lowell   \n",
       "691862                                   David Sedaris   \n",
       "136736                        Cary Elwes', 'Joe Layden   \n",
       "\n",
       "                        categories  ratingsCount  \n",
       "1158330                  Computers           2.0  \n",
       "1121827                    Fiction           6.0  \n",
       "384219                     Fiction           3.0  \n",
       "691862                       Humor        3294.0  \n",
       "136736   Biography & Autobiography          34.0  "
      ]
     },
     "execution_count": 14,
     "metadata": {},
     "output_type": "execute_result"
    }
   ],
   "source": [
    "data.head()"
   ]
  },
  {
   "cell_type": "code",
   "execution_count": 16,
   "metadata": {
    "execution": {
     "iopub.execute_input": "2023-12-28T20:32:18.073273Z",
     "iopub.status.busy": "2023-12-28T20:32:18.072530Z",
     "iopub.status.idle": "2023-12-28T20:32:18.082276Z",
     "shell.execute_reply": "2023-12-28T20:32:18.081198Z",
     "shell.execute_reply.started": "2023-12-28T20:32:18.073229Z"
    },
    "trusted": true
   },
   "outputs": [],
   "source": [
    "data.to_csv('../Datasets/cleaned_data/cleaned_data.csv', index=False)"
   ]
  },
  {
   "cell_type": "markdown",
   "metadata": {
    "papermill": {
     "duration": 0.012973,
     "end_time": "2023-01-14T10:13:07.222210",
     "exception": false,
     "start_time": "2023-01-14T10:13:07.209237",
     "status": "completed"
    },
    "tags": []
   },
   "source": [
    "# **EDA**"
   ]
  },
  {
   "cell_type": "markdown",
   "metadata": {
    "papermill": {
     "duration": 0.01291,
     "end_time": "2023-01-14T10:13:07.249176",
     "exception": false,
     "start_time": "2023-01-14T10:13:07.236266",
     "status": "completed"
    },
    "tags": []
   },
   "source": [
    "## Distribution of Books in Market based on Genre"
   ]
  },
  {
   "cell_type": "code",
   "execution_count": 17,
   "metadata": {
    "execution": {
     "iopub.execute_input": "2023-12-28T20:32:18.084411Z",
     "iopub.status.busy": "2023-12-28T20:32:18.083908Z",
     "iopub.status.idle": "2023-12-28T20:32:18.665221Z",
     "shell.execute_reply": "2023-12-28T20:32:18.664142Z",
     "shell.execute_reply.started": "2023-12-28T20:32:18.084370Z"
    },
    "papermill": {
     "duration": 0.582997,
     "end_time": "2023-01-14T10:13:07.845440",
     "exception": false,
     "start_time": "2023-01-14T10:13:07.262443",
     "status": "completed"
    },
    "tags": [],
    "trusted": true
   },
   "outputs": [
    {
     "data": {
      "image/png": "[encoded data removed]",
      "text/plain": [
       "<Figure size 700x700 with 1 Axes>"
      ]
     },
     "metadata": {},
     "output_type": "display_data"
    }
   ],
   "source": [
    "plt.figure(figsize=(7,7))\n",
    "labels=['Fiction','Juvenile Fiction','Biography & Autobiography','Religion','History','Business & Economics','Computers','Cooking','Social Science','Family & Relationships']\n",
    "plt.pie(data['categories'].value_counts().head(10),explode=(0.1,0,0,0,0,0,0,0,0,0), labels=labels,autopct='%1.1f%%', shadow=True)\n",
    "plt.title('Distribution of Books Based on Genre', fontsize = 20)\n",
    "plt.axis('off')\n",
    "plt.legend()\n",
    "plt.show()"
   ]
  },
  {
   "cell_type": "markdown",
   "metadata": {
    "papermill": {
     "duration": 0.014362,
     "end_time": "2023-01-14T10:13:08.215688",
     "exception": false,
     "start_time": "2023-01-14T10:13:08.201326",
     "status": "completed"
    },
    "tags": []
   },
   "source": [
    "## Most frequent Words in over 3 rated Reviews"
   ]
  },
  {
   "cell_type": "code",
   "execution_count": 18,
   "metadata": {
    "execution": {
     "iopub.execute_input": "2023-12-28T20:32:18.667858Z",
     "iopub.status.busy": "2023-12-28T20:32:18.667084Z",
     "iopub.status.idle": "2023-12-28T20:32:27.479386Z",
     "shell.execute_reply": "2023-12-28T20:32:27.478221Z",
     "shell.execute_reply.started": "2023-12-28T20:32:18.667814Z"
    },
    "papermill": {
     "duration": 21.169646,
     "end_time": "2023-01-14T10:13:29.399756",
     "exception": false,
     "start_time": "2023-01-14T10:13:08.230110",
     "status": "completed"
    },
    "tags": [],
    "trusted": true
   },
   "outputs": [
    {
     "data": {
      "text/plain": [
       "<matplotlib.image.AxesImage at 0x2b2e24b5910>"
      ]
     },
     "execution_count": 18,
     "metadata": {},
     "output_type": "execute_result"
    },
    {
     "data": {
      "image/png": "[encoded data removed]",
      "text/plain": [
       "<Figure size 700x700 with 1 Axes>"
      ]
     },
     "metadata": {},
     "output_type": "display_data"
    }
   ],
   "source": [
    "from wordcloud import WordCloud\n",
    "\n",
    "wc = WordCloud(width=500,height=500,min_font_size=15,background_color='white')\n",
    "spam_wc = wc.generate(data[data['review/score'] > 3]['review/text'].str.cat(sep=\" \"))\n",
    "\n",
    "plt.figure(figsize=(7,7))\n",
    "plt.axis('off')\n",
    "plt.imshow(spam_wc)"
   ]
  },
  {
   "cell_type": "markdown",
   "metadata": {
    "papermill": {
     "duration": 0.021344,
     "end_time": "2023-01-14T10:13:31.964684",
     "exception": false,
     "start_time": "2023-01-14T10:13:31.943340",
     "status": "completed"
    },
    "tags": []
   },
   "source": [
    "## Most Reviewed Books"
   ]
  },
  {
   "cell_type": "code",
   "execution_count": 19,
   "metadata": {
    "execution": {
     "iopub.execute_input": "2023-12-28T20:32:27.482081Z",
     "iopub.status.busy": "2023-12-28T20:32:27.481005Z",
     "iopub.status.idle": "2023-12-28T20:32:27.861579Z",
     "shell.execute_reply": "2023-12-28T20:32:27.860413Z",
     "shell.execute_reply.started": "2023-12-28T20:32:27.482018Z"
    },
    "papermill": {
     "duration": 0.401097,
     "end_time": "2023-01-14T10:13:32.387322",
     "exception": false,
     "start_time": "2023-01-14T10:13:31.986225",
     "status": "completed"
    },
    "tags": [],
    "trusted": true
   },
   "outputs": [
    {
     "ename": "KeyError",
     "evalue": "'word_count'",
     "output_type": "error",
     "traceback": [
      "\u001b[1;31m---------------------------------------------------------------------------\u001b[0m",
      "\u001b[1;31mKeyError\u001b[0m                                  Traceback (most recent call last)",
      "File \u001b[1;32m~\\AppData\\Roaming\\Python\\Python312\\site-packages\\pandas\\core\\indexes\\base.py:3805\u001b[0m, in \u001b[0;36mIndex.get_loc\u001b[1;34m(self, key)\u001b[0m\n\u001b[0;32m   3804\u001b[0m \u001b[38;5;28;01mtry\u001b[39;00m:\n\u001b[1;32m-> 3805\u001b[0m     \u001b[38;5;28;01mreturn\u001b[39;00m \u001b[38;5;28;43mself\u001b[39;49m\u001b[38;5;241;43m.\u001b[39;49m\u001b[43m_engine\u001b[49m\u001b[38;5;241;43m.\u001b[39;49m\u001b[43mget_loc\u001b[49m\u001b[43m(\u001b[49m\u001b[43mcasted_key\u001b[49m\u001b[43m)\u001b[49m\n\u001b[0;32m   3806\u001b[0m \u001b[38;5;28;01mexcept\u001b[39;00m \u001b[38;5;167;01mKeyError\u001b[39;00m \u001b[38;5;28;01mas\u001b[39;00m err:\n",
      "File \u001b[1;32mindex.pyx:167\u001b[0m, in \u001b[0;36mpandas._libs.index.IndexEngine.get_loc\u001b[1;34m()\u001b[0m\n",
      "File \u001b[1;32mindex.pyx:196\u001b[0m, in \u001b[0;36mpandas._libs.index.IndexEngine.get_loc\u001b[1;34m()\u001b[0m\n",
      "File \u001b[1;32mpandas\\\\_libs\\\\hashtable_class_helper.pxi:7081\u001b[0m, in \u001b[0;36mpandas._libs.hashtable.PyObjectHashTable.get_item\u001b[1;34m()\u001b[0m\n",
      "File \u001b[1;32mpandas\\\\_libs\\\\hashtable_class_helper.pxi:7089\u001b[0m, in \u001b[0;36mpandas._libs.hashtable.PyObjectHashTable.get_item\u001b[1;34m()\u001b[0m\n",
      "\u001b[1;31mKeyError\u001b[0m: 'word_count'",
      "\nThe above exception was the direct cause of the following exception:\n",
      "\u001b[1;31mKeyError\u001b[0m                                  Traceback (most recent call last)",
      "Cell \u001b[1;32mIn[19], line 4\u001b[0m\n\u001b[0;32m      2\u001b[0m \u001b[38;5;28;01mimport\u001b[39;00m\u001b[38;5;250m \u001b[39m\u001b[38;5;21;01mseaborn\u001b[39;00m\u001b[38;5;250m \u001b[39m\u001b[38;5;28;01mas\u001b[39;00m\u001b[38;5;250m \u001b[39m\u001b[38;5;21;01msns\u001b[39;00m  \n\u001b[0;32m      3\u001b[0m plt\u001b[38;5;241m.\u001b[39mfigure(figsize\u001b[38;5;241m=\u001b[39m(\u001b[38;5;241m7\u001b[39m, \u001b[38;5;241m7\u001b[39m))\n\u001b[1;32m----> 4\u001b[0m cou \u001b[38;5;241m=\u001b[39m data[\u001b[43mdata\u001b[49m\u001b[43m[\u001b[49m\u001b[38;5;124;43m'\u001b[39;49m\u001b[38;5;124;43mword_count\u001b[39;49m\u001b[38;5;124;43m'\u001b[39;49m\u001b[43m]\u001b[49m \u001b[38;5;241m>\u001b[39m \u001b[38;5;241m1707\u001b[39m][[\u001b[38;5;124m'\u001b[39m\u001b[38;5;124mTitle\u001b[39m\u001b[38;5;124m'\u001b[39m, \u001b[38;5;124m'\u001b[39m\u001b[38;5;124mword_count\u001b[39m\u001b[38;5;124m'\u001b[39m]]\u001b[38;5;241m.\u001b[39msort_values(by\u001b[38;5;241m=\u001b[39m\u001b[38;5;124m'\u001b[39m\u001b[38;5;124mword_count\u001b[39m\u001b[38;5;124m'\u001b[39m, ascending\u001b[38;5;241m=\u001b[39m\u001b[38;5;28;01mFalse\u001b[39;00m)\n\u001b[0;32m      5\u001b[0m colors \u001b[38;5;241m=\u001b[39m sns\u001b[38;5;241m.\u001b[39mcolor_palette(\u001b[38;5;124m'\u001b[39m\u001b[38;5;124mhusl\u001b[39m\u001b[38;5;124m'\u001b[39m, n_colors\u001b[38;5;241m=\u001b[39m\u001b[38;5;28mlen\u001b[39m(cou))\n\u001b[0;32m      6\u001b[0m bars \u001b[38;5;241m=\u001b[39m plt\u001b[38;5;241m.\u001b[39mbar(cou[\u001b[38;5;124m'\u001b[39m\u001b[38;5;124mTitle\u001b[39m\u001b[38;5;124m'\u001b[39m], cou[\u001b[38;5;124m'\u001b[39m\u001b[38;5;124mword_count\u001b[39m\u001b[38;5;124m'\u001b[39m], color\u001b[38;5;241m=\u001b[39mcolors)\n",
      "File \u001b[1;32m~\\AppData\\Roaming\\Python\\Python312\\site-packages\\pandas\\core\\frame.py:4102\u001b[0m, in \u001b[0;36mDataFrame.__getitem__\u001b[1;34m(self, key)\u001b[0m\n\u001b[0;32m   4100\u001b[0m \u001b[38;5;28;01mif\u001b[39;00m \u001b[38;5;28mself\u001b[39m\u001b[38;5;241m.\u001b[39mcolumns\u001b[38;5;241m.\u001b[39mnlevels \u001b[38;5;241m>\u001b[39m \u001b[38;5;241m1\u001b[39m:\n\u001b[0;32m   4101\u001b[0m     \u001b[38;5;28;01mreturn\u001b[39;00m \u001b[38;5;28mself\u001b[39m\u001b[38;5;241m.\u001b[39m_getitem_multilevel(key)\n\u001b[1;32m-> 4102\u001b[0m indexer \u001b[38;5;241m=\u001b[39m \u001b[38;5;28;43mself\u001b[39;49m\u001b[38;5;241;43m.\u001b[39;49m\u001b[43mcolumns\u001b[49m\u001b[38;5;241;43m.\u001b[39;49m\u001b[43mget_loc\u001b[49m\u001b[43m(\u001b[49m\u001b[43mkey\u001b[49m\u001b[43m)\u001b[49m\n\u001b[0;32m   4103\u001b[0m \u001b[38;5;28;01mif\u001b[39;00m is_integer(indexer):\n\u001b[0;32m   4104\u001b[0m     indexer \u001b[38;5;241m=\u001b[39m [indexer]\n",
      "File \u001b[1;32m~\\AppData\\Roaming\\Python\\Python312\\site-packages\\pandas\\core\\indexes\\base.py:3812\u001b[0m, in \u001b[0;36mIndex.get_loc\u001b[1;34m(self, key)\u001b[0m\n\u001b[0;32m   3807\u001b[0m     \u001b[38;5;28;01mif\u001b[39;00m \u001b[38;5;28misinstance\u001b[39m(casted_key, \u001b[38;5;28mslice\u001b[39m) \u001b[38;5;129;01mor\u001b[39;00m (\n\u001b[0;32m   3808\u001b[0m         \u001b[38;5;28misinstance\u001b[39m(casted_key, abc\u001b[38;5;241m.\u001b[39mIterable)\n\u001b[0;32m   3809\u001b[0m         \u001b[38;5;129;01mand\u001b[39;00m \u001b[38;5;28many\u001b[39m(\u001b[38;5;28misinstance\u001b[39m(x, \u001b[38;5;28mslice\u001b[39m) \u001b[38;5;28;01mfor\u001b[39;00m x \u001b[38;5;129;01min\u001b[39;00m casted_key)\n\u001b[0;32m   3810\u001b[0m     ):\n\u001b[0;32m   3811\u001b[0m         \u001b[38;5;28;01mraise\u001b[39;00m InvalidIndexError(key)\n\u001b[1;32m-> 3812\u001b[0m     \u001b[38;5;28;01mraise\u001b[39;00m \u001b[38;5;167;01mKeyError\u001b[39;00m(key) \u001b[38;5;28;01mfrom\u001b[39;00m\u001b[38;5;250m \u001b[39m\u001b[38;5;21;01merr\u001b[39;00m\n\u001b[0;32m   3813\u001b[0m \u001b[38;5;28;01mexcept\u001b[39;00m \u001b[38;5;167;01mTypeError\u001b[39;00m:\n\u001b[0;32m   3814\u001b[0m     \u001b[38;5;66;03m# If we have a listlike key, _check_indexing_error will raise\u001b[39;00m\n\u001b[0;32m   3815\u001b[0m     \u001b[38;5;66;03m#  InvalidIndexError. Otherwise we fall through and re-raise\u001b[39;00m\n\u001b[0;32m   3816\u001b[0m     \u001b[38;5;66;03m#  the TypeError.\u001b[39;00m\n\u001b[0;32m   3817\u001b[0m     \u001b[38;5;28mself\u001b[39m\u001b[38;5;241m.\u001b[39m_check_indexing_error(key)\n",
      "\u001b[1;31mKeyError\u001b[0m: 'word_count'"
     ]
    },
    {
     "data": {
      "text/plain": [
       "<Figure size 700x700 with 0 Axes>"
      ]
     },
     "metadata": {},
     "output_type": "display_data"
    }
   ],
   "source": [
    "import matplotlib.pyplot as plt\n",
    "import seaborn as sns  \n",
    "plt.figure(figsize=(7, 7))\n",
    "cou = data[data['word_count'] > 1707][['Title', 'word_count']].sort_values(by='word_count', ascending=False)\n",
    "colors = sns.color_palette('husl', n_colors=len(cou))\n",
    "bars = plt.bar(cou['Title'], cou['word_count'], color=colors)\n",
    "plt.title('Most Reviewed Books by Word Count', fontsize=20)\n",
    "plt.xticks(rotation=90)\n",
    "plt.show()"
   ]
  },
  {
   "cell_type": "markdown",
   "metadata": {
    "papermill": {
     "duration": 0.022743,
     "end_time": "2023-01-14T10:13:32.432716",
     "exception": false,
     "start_time": "2023-01-14T10:13:32.409973",
     "status": "completed"
    },
    "tags": []
   },
   "source": [
    "## Highest Rated Books with over 4000 ratings each Book"
   ]
  },
  {
   "cell_type": "code",
   "execution_count": 20,
   "metadata": {
    "execution": {
     "iopub.execute_input": "2023-12-28T20:32:27.864078Z",
     "iopub.status.busy": "2023-12-28T20:32:27.863244Z",
     "iopub.status.idle": "2023-12-28T20:32:28.137565Z",
     "shell.execute_reply": "2023-12-28T20:32:28.136275Z",
     "shell.execute_reply.started": "2023-12-28T20:32:27.864021Z"
    },
    "papermill": {
     "duration": 1.263174,
     "end_time": "2023-01-14T10:13:33.718580",
     "exception": false,
     "start_time": "2023-01-14T10:13:32.455406",
     "status": "completed"
    },
    "tags": [],
    "trusted": true
   },
   "outputs": [
    {
     "data": {
      "image/png": "[encoded data removed]",
      "text/plain": [
       "<Figure size 700x700 with 1 Axes>"
      ]
     },
     "metadata": {},
     "output_type": "display_data"
    }
   ],
   "source": [
    "plt.figure(figsize = (7, 7))\n",
    "rating_counts = data[data['ratingsCount'] > 4000][['Title','ratingsCount']].drop_duplicates()\n",
    "plt.bar(rating_counts['Title'],rating_counts['ratingsCount'])\n",
    "plt.title('Higest Rated Books with over 4000 ratings each Book', fontsize = 15)\n",
    "plt.show()"
   ]
  },
  {
   "cell_type": "markdown",
   "metadata": {
    "papermill": {
     "duration": 0.026062,
     "end_time": "2023-01-14T10:13:34.252904",
     "exception": false,
     "start_time": "2023-01-14T10:13:34.226842",
     "status": "completed"
    },
    "tags": []
   },
   "source": [
    "## In which Genres readers give Positive and Negative Ratings"
   ]
  },
  {
   "cell_type": "code",
   "execution_count": null,
   "metadata": {
    "execution": {
     "iopub.execute_input": "2023-12-28T20:32:28.139919Z",
     "iopub.status.busy": "2023-12-28T20:32:28.139532Z",
     "iopub.status.idle": "2023-12-28T20:32:28.756218Z",
     "shell.execute_reply": "2023-12-28T20:32:28.755107Z",
     "shell.execute_reply.started": "2023-12-28T20:32:28.139882Z"
    },
    "papermill": {
     "duration": 0.324298,
     "end_time": "2023-01-14T10:13:34.602526",
     "exception": false,
     "start_time": "2023-01-14T10:13:34.278228",
     "status": "completed"
    },
    "tags": [],
    "trusted": true
   },
   "outputs": [],
   "source": [
    "# Convert 'review/score' column to numeric (if applicable)\n",
    "data['review/score'] = pd.to_numeric(data['review/score'], errors='coerce')\n",
    "\n",
    "# Filter out non-numeric values (if any)\n",
    "numeric_data = data.dropna(subset=['review/score'])\n",
    "\n",
    "# Group by 'categories' and compute the mean of 'review/score'\n",
    "avg_cat_rating = numeric_data.groupby('categories')['review/score'].mean().sort_values(ascending=False).head(10)\n",
    "avg_cat_rating_d = numeric_data.groupby('categories')['review/score'].mean().sort_values().head(10)\n",
    "\n",
    "# Plot the bar chart for top and bottom categories\n",
    "plt.figure(figsize=(10, 10))\n",
    "plt.bar(avg_cat_rating.index, avg_cat_rating, color='blue', label='Top 10')\n",
    "plt.bar(avg_cat_rating_d.index, avg_cat_rating_d, color='red', label='Bottom 10')\n",
    "plt.title('Average Ratings on Book Genres', fontsize=15)\n",
    "plt.xticks(rotation='vertical')\n",
    "plt.ylabel('Ratings')\n",
    "plt.legend()\n",
    "plt.show()"
   ]
  },
  {
   "cell_type": "markdown",
   "metadata": {
    "papermill": {
     "duration": 0.028844,
     "end_time": "2023-01-14T10:13:34.657082",
     "exception": false,
     "start_time": "2023-01-14T10:13:34.628238",
     "status": "completed"
    },
    "tags": []
   },
   "source": [
    "## Top 10 Authors with 5 star Ratings"
   ]
  },
  {
   "cell_type": "code",
   "execution_count": null,
   "metadata": {
    "execution": {
     "iopub.execute_input": "2023-12-28T20:32:28.758988Z",
     "iopub.status.busy": "2023-12-28T20:32:28.758160Z",
     "iopub.status.idle": "2023-12-28T20:32:29.140265Z",
     "shell.execute_reply": "2023-12-28T20:32:29.139094Z",
     "shell.execute_reply.started": "2023-12-28T20:32:28.758945Z"
    },
    "papermill": {
     "duration": 0.266631,
     "end_time": "2023-01-14T10:13:34.949313",
     "exception": false,
     "start_time": "2023-01-14T10:13:34.682682",
     "status": "completed"
    },
    "tags": [],
    "trusted": true
   },
   "outputs": [],
   "source": [
    "# Convert 'review/score' column to numeric, coercing errors to NaN\n",
    "data['review/score'] = pd.to_numeric(data['review/score'], errors='coerce')\n",
    "\n",
    "# Group by 'authors', compute the mean of 'review/score', and plot the top 10 authors\n",
    "top_authors = data.groupby('authors')['review/score'].mean().nlargest(10)\n",
    "top_authors.plot(kind='barh', figsize=(7, 7))\n",
    "plt.title('Top 10 Authors with Highest Average Ratings')\n",
    "plt.xlabel('Average Ratings')\n",
    "plt.ylabel('Authors')\n",
    "plt.show()"
   ]
  },
  {
   "cell_type": "markdown",
   "metadata": {
    "papermill": {
     "duration": 0.026063,
     "end_time": "2023-01-14T10:13:35.001696",
     "exception": false,
     "start_time": "2023-01-14T10:13:34.975633",
     "status": "completed"
    },
    "tags": []
   },
   "source": [
    "## Top 10 Authors with 1 star Ratings"
   ]
  },
  {
   "cell_type": "code",
   "execution_count": null,
   "metadata": {
    "execution": {
     "iopub.execute_input": "2023-12-28T20:32:29.142187Z",
     "iopub.status.busy": "2023-12-28T20:32:29.141786Z",
     "iopub.status.idle": "2023-12-28T20:32:29.501162Z",
     "shell.execute_reply": "2023-12-28T20:32:29.500104Z",
     "shell.execute_reply.started": "2023-12-28T20:32:29.142156Z"
    },
    "papermill": {
     "duration": 0.293058,
     "end_time": "2023-01-14T10:13:35.321442",
     "exception": false,
     "start_time": "2023-01-14T10:13:35.028384",
     "status": "completed"
    },
    "tags": [],
    "trusted": true
   },
   "outputs": [],
   "source": [
    "# Grouping the data by authors and calculating the mean review score for each author\n",
    "average_scores_by_author = data.groupby('authors')['review/score'].mean()\n",
    "\n",
    "# Sorting the authors based on their average review scores and selecting the bottom 10 (lowest scores)\n",
    "bottom_10_authors = average_scores_by_author.sort_values(ascending=True).head(10)\n",
    "\n",
    "# Creating a horizontal bar plot to show the top 10 authors with the lowest average review scores\n",
    "bottom_10_authors.plot(kind='barh', figsize=(7,7))\n",
    "\n",
    "# Setting the title for the plot\n",
    "plt.title('Top 10 Authors with 1-star Ratings', fontsize=15)\n",
    "\n",
    "# Displaying the plot\n",
    "plt.show()\n"
   ]
  },
  {
   "cell_type": "markdown",
   "metadata": {
    "papermill": {
     "duration": 0.031371,
     "end_time": "2023-01-14T10:13:35.389240",
     "exception": false,
     "start_time": "2023-01-14T10:13:35.357869",
     "status": "completed"
    },
    "tags": []
   },
   "source": [
    "## Number of Books written by each Author"
   ]
  },
  {
   "cell_type": "code",
   "execution_count": null,
   "metadata": {
    "execution": {
     "iopub.execute_input": "2023-12-28T20:32:29.503166Z",
     "iopub.status.busy": "2023-12-28T20:32:29.502761Z",
     "iopub.status.idle": "2023-12-28T20:32:29.974481Z",
     "shell.execute_reply": "2023-12-28T20:32:29.973153Z",
     "shell.execute_reply.started": "2023-12-28T20:32:29.503134Z"
    },
    "papermill": {
     "duration": 0.316562,
     "end_time": "2023-01-14T10:13:35.734195",
     "exception": false,
     "start_time": "2023-01-14T10:13:35.417633",
     "status": "completed"
    },
    "tags": [],
    "trusted": true
   },
   "outputs": [],
   "source": [
    "data['authors'].value_counts().head(20).sort_values(ascending = True).plot(kind='barh', figsize=(7,7))\n",
    "plt.title('Number of Books written by the Authors', fontsize = 15)\n",
    "plt.ylabel('Name Of Author')\n",
    "plt.xlabel('Number of Books Written')\n",
    "plt.show()"
   ]
  },
  {
   "cell_type": "markdown",
   "metadata": {
    "papermill": {
     "duration": 0.027626,
     "end_time": "2023-01-14T10:13:35.789911",
     "exception": false,
     "start_time": "2023-01-14T10:13:35.762285",
     "status": "completed"
    },
    "tags": []
   },
   "source": [
    "# **Sentiment Analysis**"
   ]
  },
  {
   "cell_type": "code",
   "execution_count": null,
   "metadata": {
    "_kg_hide-output": true,
    "execution": {
     "iopub.execute_input": "2023-12-28T20:32:29.976373Z",
     "iopub.status.busy": "2023-12-28T20:32:29.975980Z",
     "iopub.status.idle": "2023-12-28T20:32:43.977780Z",
     "shell.execute_reply": "2023-12-28T20:32:43.976668Z",
     "shell.execute_reply.started": "2023-12-28T20:32:29.976339Z"
    },
    "papermill": {
     "duration": 13.508965,
     "end_time": "2023-01-14T10:13:49.327282",
     "exception": false,
     "start_time": "2023-01-14T10:13:35.818317",
     "status": "completed"
    },
    "tags": [],
    "trusted": true
   },
   "outputs": [],
   "source": [
    "pip install vaderSentiment"
   ]
  },
  {
   "cell_type": "code",
   "execution_count": null,
   "metadata": {
    "execution": {
     "iopub.execute_input": "2023-12-28T20:32:43.980201Z",
     "iopub.status.busy": "2023-12-28T20:32:43.979820Z",
     "iopub.status.idle": "2023-12-28T20:32:44.004117Z",
     "shell.execute_reply": "2023-12-28T20:32:44.002754Z",
     "shell.execute_reply.started": "2023-12-28T20:32:43.980168Z"
    },
    "papermill": {
     "duration": 0.059841,
     "end_time": "2023-01-14T10:13:49.417139",
     "exception": false,
     "start_time": "2023-01-14T10:13:49.357298",
     "status": "completed"
    },
    "tags": [],
    "trusted": true
   },
   "outputs": [],
   "source": [
    "from vaderSentiment.vaderSentiment import SentimentIntensityAnalyzer\n",
    "vader = SentimentIntensityAnalyzer()"
   ]
  },
  {
   "cell_type": "code",
   "execution_count": null,
   "metadata": {
    "execution": {
     "iopub.execute_input": "2023-12-28T20:32:44.015867Z",
     "iopub.status.busy": "2023-12-28T20:32:44.015444Z",
     "iopub.status.idle": "2023-12-28T20:32:44.033485Z",
     "shell.execute_reply": "2023-12-28T20:32:44.032317Z",
     "shell.execute_reply.started": "2023-12-28T20:32:44.015800Z"
    },
    "papermill": {
     "duration": 0.052462,
     "end_time": "2023-01-14T10:17:16.411839",
     "exception": false,
     "start_time": "2023-01-14T10:17:16.359377",
     "status": "completed"
    },
    "tags": [],
    "trusted": true
   },
   "outputs": [],
   "source": [
    "data.head(2)"
   ]
  },
  {
   "cell_type": "code",
   "execution_count": null,
   "metadata": {
    "execution": {
     "iopub.execute_input": "2023-12-28T20:32:44.035571Z",
     "iopub.status.busy": "2023-12-28T20:32:44.035108Z",
     "iopub.status.idle": "2023-12-28T20:33:37.122432Z",
     "shell.execute_reply": "2023-12-28T20:33:37.121303Z",
     "shell.execute_reply.started": "2023-12-28T20:32:44.035529Z"
    },
    "papermill": {
     "duration": 206.880999,
     "end_time": "2023-01-14T10:17:16.328768",
     "exception": false,
     "start_time": "2023-01-14T10:13:49.447769",
     "status": "completed"
    },
    "tags": [],
    "trusted": true
   },
   "outputs": [],
   "source": [
    "# Lower casing the reviews\n",
    "data['clean_reviews'] = data['review/text'].str.lower()\n",
    "# Calculating Polarity score of reviews\n",
    "data['score'] = data['clean_reviews'].apply(lambda review: vader.polarity_scores(review))\n",
    "# Extracting compound column\n",
    "data['compound']  = data['score'].apply(lambda score_dict: score_dict['compound'])"
   ]
  },
  {
   "cell_type": "code",
   "execution_count": null,
   "metadata": {
    "_kg_hide-input": true,
    "_kg_hide-output": true,
    "execution": {
     "iopub.execute_input": "2023-12-28T20:33:37.124342Z",
     "iopub.status.busy": "2023-12-28T20:33:37.123850Z",
     "iopub.status.idle": "2023-12-28T20:33:37.154718Z",
     "shell.execute_reply": "2023-12-28T20:33:37.153517Z",
     "shell.execute_reply.started": "2023-12-28T20:33:37.124310Z"
    },
    "papermill": {
     "duration": 0.070113,
     "end_time": "2023-01-14T10:17:16.514699",
     "exception": false,
     "start_time": "2023-01-14T10:17:16.444586",
     "status": "completed"
    },
    "tags": [],
    "trusted": true
   },
   "outputs": [],
   "source": [
    "# if compound value is more than 0.05 then it precive as positive\n",
    "# if compound value is less than -0.0 then it precive as negative\n",
    "# if compound value is equal to 0.0 then it precive as neutral\n",
    "\n",
    "data['Sentiment'] = data['compound'].apply(lambda x: 'positive' if x >= 0.05 else 'negative' if x < -0.05 else 'neutral')\n",
    "data.head()"
   ]
  },
  {
   "cell_type": "markdown",
   "metadata": {
    "papermill": {
     "duration": 0.031553,
     "end_time": "2023-01-14T10:17:16.579807",
     "exception": false,
     "start_time": "2023-01-14T10:17:16.548254",
     "status": "completed"
    },
    "tags": []
   },
   "source": [
    "## Distribution of Negative, Neutral and Positive Sentiment in whole corpus"
   ]
  },
  {
   "cell_type": "code",
   "execution_count": null,
   "metadata": {
    "execution": {
     "iopub.execute_input": "2023-12-28T20:33:37.156873Z",
     "iopub.status.busy": "2023-12-28T20:33:37.156379Z",
     "iopub.status.idle": "2023-12-28T20:33:37.910548Z",
     "shell.execute_reply": "2023-12-28T20:33:37.909283Z",
     "shell.execute_reply.started": "2023-12-28T20:33:37.156843Z"
    },
    "papermill": {
     "duration": 0.306911,
     "end_time": "2023-01-14T10:17:16.919267",
     "exception": false,
     "start_time": "2023-01-14T10:17:16.612356",
     "status": "completed"
    },
    "tags": [],
    "trusted": true
   },
   "outputs": [],
   "source": [
    "import matplotlib.pyplot as plt\n",
    "\n",
    "# Create a figure and subplots with 1 row and 2 columns\n",
    "plt.figure(figsize=(12, 5))\n",
    "\n",
    "# Plot 1 - Pie chart for sentiment distribution\n",
    "plt.subplot(1, 2, 1)\n",
    "labels = ['Positive', 'Negative', 'Neutral']\n",
    "sizes = data['Sentiment'].value_counts()\n",
    "colors = ['green', 'red', 'blue']\n",
    "explode = (0.1, 0.1, 0.1)\n",
    "\n",
    "plt.pie(sizes, explode=explode, labels=labels, colors=colors, autopct='%1.1f%%', shadow=True)\n",
    "plt.title('Sentiment Distribution')\n",
    "\n",
    "# Plot 2 - Histogram for sentiment distribution\n",
    "plt.subplot(1, 2, 2)\n",
    "positive = data[data['compound'] > 0]['compound']\n",
    "negative = data[data['compound'] < 0]['compound']\n",
    "neutral = data[data['compound'] == 0]['compound']\n",
    "\n",
    "sentiments = [positive, negative, neutral]\n",
    "colors = ['green', 'red', 'orange']\n",
    "labels = ['Positive Sentiments', 'Negative Sentiments', 'Neutral Sentiments']\n",
    "\n",
    "for sentiment, color, label in zip(sentiments, colors, labels):\n",
    "    plt.hist(sentiment, bins=20, color=color, alpha=0.5, label=label)\n",
    "\n",
    "plt.title('Sentiment Distribution')\n",
    "plt.xlabel('Compound')\n",
    "plt.ylabel('Count')\n",
    "plt.legend()\n",
    "\n",
    "plt.tight_layout()\n",
    "plt.show()\n"
   ]
  },
  {
   "cell_type": "code",
   "execution_count": null,
   "metadata": {
    "execution": {
     "iopub.execute_input": "2023-12-28T20:33:37.912528Z",
     "iopub.status.busy": "2023-12-28T20:33:37.912169Z",
     "iopub.status.idle": "2023-12-28T20:33:38.189595Z",
     "shell.execute_reply": "2023-12-28T20:33:38.188412Z",
     "shell.execute_reply.started": "2023-12-28T20:33:37.912497Z"
    },
    "papermill": {
     "duration": 0.245386,
     "end_time": "2023-01-14T10:17:17.539261",
     "exception": false,
     "start_time": "2023-01-14T10:17:17.293875",
     "status": "completed"
    },
    "tags": [],
    "trusted": true
   },
   "outputs": [],
   "source": [
    "data['Sentiment'].value_counts().plot(kind = 'bar', figsize = (8,5))\n",
    "plt.xticks(rotation = 'horizontal')\n",
    "plt.title('Sentiment Distribution',fontsize = 15)\n",
    "plt.grid()\n",
    "plt.show()"
   ]
  },
  {
   "cell_type": "markdown",
   "metadata": {
    "papermill": {
     "duration": 0.032214,
     "end_time": "2023-01-14T10:17:17.606369",
     "exception": false,
     "start_time": "2023-01-14T10:17:17.574155",
     "status": "completed"
    },
    "tags": []
   },
   "source": [
    "## Most number of **Positive** Reviews on the Books"
   ]
  },
  {
   "cell_type": "code",
   "execution_count": null,
   "metadata": {
    "execution": {
     "iopub.execute_input": "2023-12-28T20:33:38.192988Z",
     "iopub.status.busy": "2023-12-28T20:33:38.192306Z",
     "iopub.status.idle": "2023-12-28T20:33:39.015898Z",
     "shell.execute_reply": "2023-12-28T20:33:39.014915Z",
     "shell.execute_reply.started": "2023-12-28T20:33:38.192947Z"
    },
    "papermill": {
     "duration": 1.327031,
     "end_time": "2023-01-14T10:17:18.965924",
     "exception": false,
     "start_time": "2023-01-14T10:17:17.638893",
     "status": "completed"
    },
    "tags": [],
    "trusted": true
   },
   "outputs": [],
   "source": [
    "data[data['Sentiment'] == 'positive']['Title'].value_counts().head(50).plot(kind = 'bar', figsize = (7,7))\n",
    "plt.title('Number of Positive Reviews on the Books',fontsize = 15)\n",
    "plt.xticks(rotation = 90)\n",
    "plt.show()"
   ]
  },
  {
   "cell_type": "markdown",
   "metadata": {
    "papermill": {
     "duration": 0.036282,
     "end_time": "2023-01-14T10:17:19.040422",
     "exception": false,
     "start_time": "2023-01-14T10:17:19.004140",
     "status": "completed"
    },
    "tags": []
   },
   "source": [
    "## Most number of **Neutral** Reviews on the Books"
   ]
  },
  {
   "cell_type": "code",
   "execution_count": null,
   "metadata": {
    "execution": {
     "iopub.execute_input": "2023-12-28T20:33:39.018162Z",
     "iopub.status.busy": "2023-12-28T20:33:39.017778Z",
     "iopub.status.idle": "2023-12-28T20:33:39.898567Z",
     "shell.execute_reply": "2023-12-28T20:33:39.897722Z",
     "shell.execute_reply.started": "2023-12-28T20:33:39.018130Z"
    },
    "papermill": {
     "duration": 1.281916,
     "end_time": "2023-01-14T10:17:20.357613",
     "exception": false,
     "start_time": "2023-01-14T10:17:19.075697",
     "status": "completed"
    },
    "tags": [],
    "trusted": true
   },
   "outputs": [],
   "source": [
    "data[data['Sentiment'] == 'neutral']['Title'].value_counts().head(50).plot(kind = 'bar', figsize = (7,7))\n",
    "plt.title('Number of Neutral Reviews on the Books',fontsize = 15)\n",
    "plt.xticks(rotation = 90)\n",
    "plt.show()"
   ]
  },
  {
   "cell_type": "markdown",
   "metadata": {
    "papermill": {
     "duration": 0.040165,
     "end_time": "2023-01-14T10:17:20.438103",
     "exception": false,
     "start_time": "2023-01-14T10:17:20.397938",
     "status": "completed"
    },
    "tags": []
   },
   "source": [
    "## Most number of **Negative** Reviews on the Books"
   ]
  },
  {
   "cell_type": "code",
   "execution_count": null,
   "metadata": {
    "execution": {
     "iopub.execute_input": "2023-12-28T20:33:39.900782Z",
     "iopub.status.busy": "2023-12-28T20:33:39.899886Z",
     "iopub.status.idle": "2023-12-28T20:33:40.863901Z",
     "shell.execute_reply": "2023-12-28T20:33:40.863081Z",
     "shell.execute_reply.started": "2023-12-28T20:33:39.900746Z"
    },
    "papermill": {
     "duration": 1.33596,
     "end_time": "2023-01-14T10:17:21.813930",
     "exception": false,
     "start_time": "2023-01-14T10:17:20.477970",
     "status": "completed"
    },
    "tags": [],
    "trusted": true
   },
   "outputs": [],
   "source": [
    "data[data['Sentiment'] == 'negative']['Title'].value_counts().head(50).plot(kind = 'bar', figsize = (7,7))\n",
    "plt.title('Number of Negative Reviews on the Books',fontsize = 15)\n",
    "plt.xticks(rotation = 90)\n",
    "plt.show()"
   ]
  },
  {
   "cell_type": "markdown",
   "metadata": {},
   "source": [
    "## Dataframe of Reviews vs Sentiments"
   ]
  },
  {
   "cell_type": "code",
   "execution_count": null,
   "metadata": {
    "execution": {
     "iopub.execute_input": "2023-12-28T20:33:40.866145Z",
     "iopub.status.busy": "2023-12-28T20:33:40.865178Z",
     "iopub.status.idle": "2023-12-28T20:33:40.873037Z",
     "shell.execute_reply": "2023-12-28T20:33:40.871931Z",
     "shell.execute_reply.started": "2023-12-28T20:33:40.866113Z"
    },
    "trusted": true
   },
   "outputs": [],
   "source": [
    "reviews_df = data[['clean_reviews', 'Sentiment']]"
   ]
  },
  {
   "cell_type": "code",
   "execution_count": null,
   "metadata": {
    "execution": {
     "iopub.execute_input": "2023-12-28T20:33:40.874963Z",
     "iopub.status.busy": "2023-12-28T20:33:40.874559Z",
     "iopub.status.idle": "2023-12-28T20:33:40.889609Z",
     "shell.execute_reply": "2023-12-28T20:33:40.888555Z",
     "shell.execute_reply.started": "2023-12-28T20:33:40.874933Z"
    },
    "trusted": true
   },
   "outputs": [],
   "source": [
    "reviews_df.head()"
   ]
  },
  {
   "cell_type": "markdown",
   "metadata": {},
   "source": [
    "## Dividing Data into x & y "
   ]
  },
  {
   "cell_type": "code",
   "execution_count": null,
   "metadata": {
    "execution": {
     "iopub.execute_input": "2023-12-28T20:33:40.891666Z",
     "iopub.status.busy": "2023-12-28T20:33:40.890956Z",
     "iopub.status.idle": "2023-12-28T20:33:40.899557Z",
     "shell.execute_reply": "2023-12-28T20:33:40.898573Z",
     "shell.execute_reply.started": "2023-12-28T20:33:40.891634Z"
    },
    "trusted": true
   },
   "outputs": [],
   "source": [
    "x = reviews_df.drop(['Sentiment'], axis=1)\n",
    "y = reviews_df['Sentiment']"
   ]
  },
  {
   "cell_type": "code",
   "execution_count": null,
   "metadata": {
    "execution": {
     "iopub.execute_input": "2023-12-28T20:33:40.901441Z",
     "iopub.status.busy": "2023-12-28T20:33:40.901026Z",
     "iopub.status.idle": "2023-12-28T20:33:40.910489Z",
     "shell.execute_reply": "2023-12-28T20:33:40.909292Z",
     "shell.execute_reply.started": "2023-12-28T20:33:40.901410Z"
    },
    "scrolled": true,
    "trusted": true
   },
   "outputs": [],
   "source": [
    "x.shape"
   ]
  },
  {
   "cell_type": "code",
   "execution_count": null,
   "metadata": {
    "execution": {
     "iopub.execute_input": "2023-12-28T20:33:40.912445Z",
     "iopub.status.busy": "2023-12-28T20:33:40.911997Z",
     "iopub.status.idle": "2023-12-28T20:33:40.920553Z",
     "shell.execute_reply": "2023-12-28T20:33:40.919468Z",
     "shell.execute_reply.started": "2023-12-28T20:33:40.912400Z"
    },
    "trusted": true
   },
   "outputs": [],
   "source": [
    "y.shape"
   ]
  },
  {
   "cell_type": "markdown",
   "metadata": {},
   "source": [
    "# **text - preprocessing**"
   ]
  },
  {
   "cell_type": "code",
   "execution_count": null,
   "metadata": {
    "execution": {
     "iopub.execute_input": "2023-12-28T20:33:40.924294Z",
     "iopub.status.busy": "2023-12-28T20:33:40.923423Z",
     "iopub.status.idle": "2023-12-28T20:33:41.418961Z",
     "shell.execute_reply": "2023-12-28T20:33:41.417589Z",
     "shell.execute_reply.started": "2023-12-28T20:33:40.924262Z"
    },
    "trusted": true
   },
   "outputs": [],
   "source": [
    "import numpy as np # basic Libraries\n",
    "import pandas as pd\n",
    "import seaborn as sns\n",
    "import nltk"
   ]
  },
  {
   "cell_type": "code",
   "execution_count": null,
   "metadata": {
    "execution": {
     "iopub.execute_input": "2023-12-28T20:33:41.421124Z",
     "iopub.status.busy": "2023-12-28T20:33:41.420730Z",
     "iopub.status.idle": "2023-12-28T20:33:57.597856Z",
     "shell.execute_reply": "2023-12-28T20:33:57.596745Z",
     "shell.execute_reply.started": "2023-12-28T20:33:41.421081Z"
    },
    "trusted": true
   },
   "outputs": [],
   "source": [
    "!pip install -U nltk"
   ]
  },
  {
   "cell_type": "code",
   "execution_count": null,
   "metadata": {
    "execution": {
     "iopub.execute_input": "2023-12-28T20:33:57.600475Z",
     "iopub.status.busy": "2023-12-28T20:33:57.599594Z",
     "iopub.status.idle": "2023-12-28T20:33:59.121067Z",
     "shell.execute_reply": "2023-12-28T20:33:59.119931Z",
     "shell.execute_reply.started": "2023-12-28T20:33:57.600439Z"
    },
    "trusted": true
   },
   "outputs": [],
   "source": [
    "nltk.download('stopwords')\n",
    "nltk.download('wordnet')\n",
    "nltk.download('omw-1.4')"
   ]
  },
  {
   "cell_type": "code",
   "execution_count": null,
   "metadata": {
    "execution": {
     "iopub.execute_input": "2023-12-28T20:33:59.122850Z",
     "iopub.status.busy": "2023-12-28T20:33:59.122501Z",
     "iopub.status.idle": "2023-12-28T20:33:59.131852Z",
     "shell.execute_reply": "2023-12-28T20:33:59.130721Z",
     "shell.execute_reply.started": "2023-12-28T20:33:59.122820Z"
    },
    "trusted": true
   },
   "outputs": [],
   "source": [
    "import re # regular expression module\n",
    "stemmer = nltk.SnowballStemmer(\"english\") # for stemming\n",
    "from nltk.corpus import stopwords\n",
    "import string\n",
    "stopword=set(stopwords.words('english')) # for stopword"
   ]
  },
  {
   "cell_type": "code",
   "execution_count": null,
   "metadata": {
    "execution": {
     "iopub.execute_input": "2023-12-28T20:33:59.134235Z",
     "iopub.status.busy": "2023-12-28T20:33:59.133735Z",
     "iopub.status.idle": "2023-12-28T20:33:59.142363Z",
     "shell.execute_reply": "2023-12-28T20:33:59.141120Z",
     "shell.execute_reply.started": "2023-12-28T20:33:59.134202Z"
    },
    "trusted": true
   },
   "outputs": [],
   "source": [
    "from nltk.stem import WordNetLemmatizer\n",
    "from nltk.tokenize import word_tokenize\n",
    "from nltk.tokenize.toktok import ToktokTokenizer\n",
    "from nltk.stem import LancasterStemmer,WordNetLemmatizer\n",
    "import re, string, unicodedata\n",
    "from string import punctuation"
   ]
  },
  {
   "cell_type": "code",
   "execution_count": null,
   "metadata": {
    "execution": {
     "iopub.execute_input": "2023-12-28T20:33:59.144787Z",
     "iopub.status.busy": "2023-12-28T20:33:59.143803Z",
     "iopub.status.idle": "2023-12-28T20:33:59.155292Z",
     "shell.execute_reply": "2023-12-28T20:33:59.154156Z",
     "shell.execute_reply.started": "2023-12-28T20:33:59.144744Z"
    },
    "trusted": true
   },
   "outputs": [],
   "source": [
    "def hapus_url(text):\n",
    "    return re.sub(r'http\\S+','', text)\n",
    "\n",
    "def remove_special_characters(text, remove_digits=True):\n",
    "    pattern=r'[^a-zA-Z0-9\\s]'\n",
    "    text=re.sub(pattern,'',text)\n",
    "    return text\n",
    "\n",
    "def lemmi(text):\n",
    "    lemmatizer = WordNetLemmatizer()\n",
    "    text=' '.join([lemmatizer.lemmatize(word) for word in text.split()])\n",
    "    return text\n",
    "\n",
    "def final_clean(text):\n",
    "    final_text= []\n",
    "    for i in text.split():\n",
    "        if i.strip().lower() not in stopword and i.strip().lower().isalpha():\n",
    "            final_text.append(i.strip().lower())\n",
    "    return \" \".join(final_text)"
   ]
  },
  {
   "cell_type": "code",
   "execution_count": null,
   "metadata": {
    "execution": {
     "iopub.execute_input": "2023-12-28T20:33:59.156990Z",
     "iopub.status.busy": "2023-12-28T20:33:59.156563Z",
     "iopub.status.idle": "2023-12-28T20:33:59.166350Z",
     "shell.execute_reply": "2023-12-28T20:33:59.165317Z",
     "shell.execute_reply.started": "2023-12-28T20:33:59.156946Z"
    },
    "trusted": true
   },
   "outputs": [],
   "source": [
    "def clean(text):\n",
    "    text = hapus_url(text)\n",
    "    text = remove_special_characters(text, remove_digits=True)\n",
    "    text = lemmi(text)\n",
    "    text = final_clean(text)\n",
    "    return text"
   ]
  },
  {
   "cell_type": "code",
   "execution_count": null,
   "metadata": {
    "execution": {
     "iopub.execute_input": "2023-12-28T20:33:59.168531Z",
     "iopub.status.busy": "2023-12-28T20:33:59.168125Z",
     "iopub.status.idle": "2023-12-28T20:34:00.158295Z",
     "shell.execute_reply": "2023-12-28T20:34:00.157136Z",
     "shell.execute_reply.started": "2023-12-28T20:33:59.168493Z"
    },
    "trusted": true
   },
   "outputs": [],
   "source": [
    "import nltk\n",
    "import subprocess\n",
    "\n",
    "# Download and unzip wordnet\n",
    "try:\n",
    "    nltk.data.find('wordnet.zip')\n",
    "except:\n",
    "    nltk.download('wordnet', download_dir='/kaggle/working/')\n",
    "    command = \"unzip /kaggle/working/corpora/wordnet.zip -d /kaggle/working/corpora\"\n",
    "    subprocess.run(command.split())\n",
    "    nltk.data.path.append('/kaggle/working/')\n",
    "\n",
    "# Now you can import the NLTK resources as usual\n",
    "from nltk.corpus import wordnet"
   ]
  },
  {
   "cell_type": "code",
   "execution_count": null,
   "metadata": {
    "execution": {
     "iopub.execute_input": "2023-12-28T20:34:00.160445Z",
     "iopub.status.busy": "2023-12-28T20:34:00.159998Z",
     "iopub.status.idle": "2023-12-28T20:34:18.748480Z",
     "shell.execute_reply": "2023-12-28T20:34:18.747264Z",
     "shell.execute_reply.started": "2023-12-28T20:34:00.160406Z"
    },
    "trusted": true
   },
   "outputs": [],
   "source": [
    "x[\"clean_reviews\"] = x[\"clean_reviews\"].apply(clean)"
   ]
  },
  {
   "cell_type": "code",
   "execution_count": null,
   "metadata": {
    "execution": {
     "iopub.execute_input": "2023-12-28T20:34:18.750475Z",
     "iopub.status.busy": "2023-12-28T20:34:18.749956Z",
     "iopub.status.idle": "2023-12-28T20:34:18.762470Z",
     "shell.execute_reply": "2023-12-28T20:34:18.761633Z",
     "shell.execute_reply.started": "2023-12-28T20:34:18.750437Z"
    },
    "trusted": true
   },
   "outputs": [],
   "source": [
    "from sklearn.model_selection import train_test_split\n",
    "x_train, x_test, y_train, y_test = train_test_split(x, y, test_size=0.25,random_state=0)"
   ]
  },
  {
   "cell_type": "code",
   "execution_count": null,
   "metadata": {
    "execution": {
     "iopub.execute_input": "2023-12-28T20:34:18.764634Z",
     "iopub.status.busy": "2023-12-28T20:34:18.763714Z",
     "iopub.status.idle": "2023-12-28T20:34:18.776271Z",
     "shell.execute_reply": "2023-12-28T20:34:18.775131Z",
     "shell.execute_reply.started": "2023-12-28T20:34:18.764601Z"
    },
    "trusted": true
   },
   "outputs": [],
   "source": [
    "x_train"
   ]
  },
  {
   "cell_type": "code",
   "execution_count": null,
   "metadata": {
    "execution": {
     "iopub.execute_input": "2023-12-28T20:34:18.778132Z",
     "iopub.status.busy": "2023-12-28T20:34:18.777781Z",
     "iopub.status.idle": "2023-12-28T20:34:18.784368Z",
     "shell.execute_reply": "2023-12-28T20:34:18.783135Z",
     "shell.execute_reply.started": "2023-12-28T20:34:18.778093Z"
    },
    "trusted": true
   },
   "outputs": [],
   "source": [
    "from sklearn.feature_extraction.text import TfidfVectorizer"
   ]
  },
  {
   "cell_type": "code",
   "execution_count": null,
   "metadata": {
    "execution": {
     "iopub.execute_input": "2023-12-28T20:34:18.786190Z",
     "iopub.status.busy": "2023-12-28T20:34:18.785832Z",
     "iopub.status.idle": "2023-12-28T20:34:20.556264Z",
     "shell.execute_reply": "2023-12-28T20:34:20.555266Z",
     "shell.execute_reply.started": "2023-12-28T20:34:18.786146Z"
    },
    "trusted": true
   },
   "outputs": [],
   "source": [
    "tfidf_vectorizer = TfidfVectorizer()  # You can adjust the max_features parameter\n",
    "\n",
    "x_train_tfidf = tfidf_vectorizer.fit_transform(x_train['clean_reviews'])\n",
    "\n",
    "# Transform the 'clean_reviews' column on the testing data\n",
    "x_test_tfidf = tfidf_vectorizer.transform(x_test['clean_reviews'])"
   ]
  },
  {
   "cell_type": "code",
   "execution_count": null,
   "metadata": {
    "execution": {
     "iopub.execute_input": "2023-12-28T20:34:20.558237Z",
     "iopub.status.busy": "2023-12-28T20:34:20.557793Z",
     "iopub.status.idle": "2023-12-28T20:34:24.329739Z",
     "shell.execute_reply": "2023-12-28T20:34:24.328812Z",
     "shell.execute_reply.started": "2023-12-28T20:34:20.558195Z"
    },
    "trusted": true
   },
   "outputs": [],
   "source": [
    "x_train_tfidf_df = pd.DataFrame(x_train_tfidf.toarray())\n",
    "x_test_tfidf_df =  pd.DataFrame(x_test_tfidf.toarray())"
   ]
  },
  {
   "cell_type": "markdown",
   "metadata": {},
   "source": [
    "## Balancing Data"
   ]
  },
  {
   "cell_type": "markdown",
   "metadata": {},
   "source": [
    "### Using Smote for Balancing Data"
   ]
  },
  {
   "cell_type": "code",
   "execution_count": null,
   "metadata": {
    "execution": {
     "iopub.execute_input": "2023-12-28T20:34:24.331218Z",
     "iopub.status.busy": "2023-12-28T20:34:24.330917Z",
     "iopub.status.idle": "2023-12-28T20:34:32.799637Z",
     "shell.execute_reply": "2023-12-28T20:34:32.797669Z",
     "shell.execute_reply.started": "2023-12-28T20:34:24.331191Z"
    },
    "trusted": true
   },
   "outputs": [],
   "source": [
    "from imblearn.over_sampling import SMOTE\n",
    "oversample = SMOTE()\n",
    "x_train_bal, y_train_bal = oversample.fit_resample(x_train_tfidf, y_train)\n",
    "y_train_bal.value_counts()"
   ]
  },
  {
   "cell_type": "code",
   "execution_count": null,
   "metadata": {
    "execution": {
     "iopub.execute_input": "2023-12-28T20:34:32.801581Z",
     "iopub.status.busy": "2023-12-28T20:34:32.801021Z",
     "iopub.status.idle": "2023-12-28T20:34:33.713320Z",
     "shell.execute_reply": "2023-12-28T20:34:33.712113Z",
     "shell.execute_reply.started": "2023-12-28T20:34:32.801549Z"
    },
    "trusted": true
   },
   "outputs": [],
   "source": [
    "x_test_bal, y_test_bal = oversample.fit_resample(x_test_tfidf, y_test)\n",
    "y_test_bal.value_counts()"
   ]
  },
  {
   "cell_type": "markdown",
   "metadata": {},
   "source": [
    "## **Model Training**"
   ]
  },
  {
   "cell_type": "markdown",
   "metadata": {},
   "source": [
    "## 1) Logistic Regression"
   ]
  },
  {
   "cell_type": "markdown",
   "metadata": {},
   "source": [
    "### Applying Logistic Regression on Imbalanced Data"
   ]
  },
  {
   "cell_type": "code",
   "execution_count": null,
   "metadata": {
    "execution": {
     "iopub.execute_input": "2023-12-28T20:34:33.715408Z",
     "iopub.status.busy": "2023-12-28T20:34:33.714902Z",
     "iopub.status.idle": "2023-12-28T20:34:33.719649Z",
     "shell.execute_reply": "2023-12-28T20:34:33.718695Z",
     "shell.execute_reply.started": "2023-12-28T20:34:33.715375Z"
    },
    "trusted": true
   },
   "outputs": [],
   "source": [
    "from sklearn.linear_model import LogisticRegression\n",
    "from sklearn.metrics import classification_report"
   ]
  },
  {
   "cell_type": "code",
   "execution_count": null,
   "metadata": {
    "execution": {
     "iopub.execute_input": "2023-12-28T20:34:33.721329Z",
     "iopub.status.busy": "2023-12-28T20:34:33.720846Z",
     "iopub.status.idle": "2023-12-28T20:36:57.989780Z",
     "shell.execute_reply": "2023-12-28T20:36:57.987931Z",
     "shell.execute_reply.started": "2023-12-28T20:34:33.721299Z"
    },
    "trusted": true
   },
   "outputs": [],
   "source": [
    "log = LogisticRegression()\n",
    "log.fit(x_train_tfidf_df, y_train)"
   ]
  },
  {
   "cell_type": "code",
   "execution_count": null,
   "metadata": {
    "execution": {
     "iopub.execute_input": "2023-12-28T20:36:57.995579Z",
     "iopub.status.busy": "2023-12-28T20:36:57.993191Z",
     "iopub.status.idle": "2023-12-28T20:36:59.569346Z",
     "shell.execute_reply": "2023-12-28T20:36:59.567797Z",
     "shell.execute_reply.started": "2023-12-28T20:36:57.995518Z"
    },
    "trusted": true
   },
   "outputs": [],
   "source": [
    "perd_log=log.predict(x_test_tfidf_df)"
   ]
  },
  {
   "cell_type": "code",
   "execution_count": null,
   "metadata": {
    "execution": {
     "iopub.execute_input": "2023-12-28T20:36:59.573224Z",
     "iopub.status.busy": "2023-12-28T20:36:59.572084Z",
     "iopub.status.idle": "2023-12-28T20:36:59.840483Z",
     "shell.execute_reply": "2023-12-28T20:36:59.839310Z",
     "shell.execute_reply.started": "2023-12-28T20:36:59.573162Z"
    },
    "trusted": true
   },
   "outputs": [],
   "source": [
    "print(classification_report(perd_log, y_test))"
   ]
  },
  {
   "cell_type": "markdown",
   "metadata": {},
   "source": [
    "### Applying Logistic Regression on Balanced Data"
   ]
  },
  {
   "cell_type": "code",
   "execution_count": null,
   "metadata": {
    "execution": {
     "iopub.execute_input": "2023-12-28T20:36:59.842376Z",
     "iopub.status.busy": "2023-12-28T20:36:59.841916Z",
     "iopub.status.idle": "2023-12-28T20:37:14.786438Z",
     "shell.execute_reply": "2023-12-28T20:37:14.784997Z",
     "shell.execute_reply.started": "2023-12-28T20:36:59.842336Z"
    },
    "trusted": true
   },
   "outputs": [],
   "source": [
    "log_bal = LogisticRegression()\n",
    "log_bal.fit(x_train_bal, y_train_bal)"
   ]
  },
  {
   "cell_type": "code",
   "execution_count": null,
   "metadata": {
    "execution": {
     "iopub.execute_input": "2023-12-28T20:37:14.795247Z",
     "iopub.status.busy": "2023-12-28T20:37:14.794289Z",
     "iopub.status.idle": "2023-12-28T20:37:14.831981Z",
     "shell.execute_reply": "2023-12-28T20:37:14.830377Z",
     "shell.execute_reply.started": "2023-12-28T20:37:14.795182Z"
    },
    "trusted": true
   },
   "outputs": [],
   "source": [
    "perd_log_bal =log_bal.predict(x_test_bal)"
   ]
  },
  {
   "cell_type": "code",
   "execution_count": null,
   "metadata": {
    "execution": {
     "iopub.execute_input": "2023-12-28T20:37:14.835479Z",
     "iopub.status.busy": "2023-12-28T20:37:14.833817Z",
     "iopub.status.idle": "2023-12-28T20:37:15.423648Z",
     "shell.execute_reply": "2023-12-28T20:37:15.422418Z",
     "shell.execute_reply.started": "2023-12-28T20:37:14.835435Z"
    },
    "trusted": true
   },
   "outputs": [],
   "source": [
    "print(classification_report(perd_log_bal, y_test_bal))"
   ]
  },
  {
   "cell_type": "code",
   "execution_count": null,
   "metadata": {
    "execution": {
     "iopub.execute_input": "2023-12-28T20:37:15.425258Z",
     "iopub.status.busy": "2023-12-28T20:37:15.424913Z",
     "iopub.status.idle": "2023-12-28T20:37:15.430261Z",
     "shell.execute_reply": "2023-12-28T20:37:15.429266Z",
     "shell.execute_reply.started": "2023-12-28T20:37:15.425228Z"
    },
    "trusted": true
   },
   "outputs": [],
   "source": [
    "from sklearn.metrics import confusion_matrix"
   ]
  },
  {
   "cell_type": "code",
   "execution_count": null,
   "metadata": {
    "execution": {
     "iopub.execute_input": "2023-12-28T20:37:15.431933Z",
     "iopub.status.busy": "2023-12-28T20:37:15.431640Z",
     "iopub.status.idle": "2023-12-28T20:37:15.504754Z",
     "shell.execute_reply": "2023-12-28T20:37:15.503819Z",
     "shell.execute_reply.started": "2023-12-28T20:37:15.431908Z"
    },
    "trusted": true
   },
   "outputs": [],
   "source": [
    "confusion_matrix(y_test_bal,perd_log_bal)"
   ]
  },
  {
   "cell_type": "code",
   "execution_count": null,
   "metadata": {
    "execution": {
     "iopub.execute_input": "2023-12-28T20:37:15.506531Z",
     "iopub.status.busy": "2023-12-28T20:37:15.506200Z",
     "iopub.status.idle": "2023-12-28T20:37:15.511863Z",
     "shell.execute_reply": "2023-12-28T20:37:15.510859Z",
     "shell.execute_reply.started": "2023-12-28T20:37:15.506502Z"
    },
    "trusted": true
   },
   "outputs": [],
   "source": [
    "from sklearn.metrics import confusion_matrix, ConfusionMatrixDisplay"
   ]
  },
  {
   "cell_type": "code",
   "execution_count": null,
   "metadata": {
    "execution": {
     "iopub.execute_input": "2023-12-28T20:37:15.513715Z",
     "iopub.status.busy": "2023-12-28T20:37:15.513348Z",
     "iopub.status.idle": "2023-12-28T20:37:15.893996Z",
     "shell.execute_reply": "2023-12-28T20:37:15.892820Z",
     "shell.execute_reply.started": "2023-12-28T20:37:15.513685Z"
    },
    "trusted": true
   },
   "outputs": [],
   "source": [
    "cm = confusion_matrix(y_test_bal, perd_log_bal, labels=log.classes_)\n",
    "disp = ConfusionMatrixDisplay(confusion_matrix=cm,display_labels=log.classes_)\n",
    "disp.plot()"
   ]
  },
  {
   "cell_type": "markdown",
   "metadata": {},
   "source": [
    "## 2) Decision Tree"
   ]
  },
  {
   "cell_type": "markdown",
   "metadata": {},
   "source": [
    "### Decision tree on imbalanced Data"
   ]
  },
  {
   "cell_type": "code",
   "execution_count": null,
   "metadata": {
    "execution": {
     "iopub.execute_input": "2023-12-28T20:37:15.896517Z",
     "iopub.status.busy": "2023-12-28T20:37:15.895613Z",
     "iopub.status.idle": "2023-12-28T20:37:15.901593Z",
     "shell.execute_reply": "2023-12-28T20:37:15.900550Z",
     "shell.execute_reply.started": "2023-12-28T20:37:15.896473Z"
    },
    "trusted": true
   },
   "outputs": [],
   "source": [
    "from sklearn.tree import DecisionTreeClassifier"
   ]
  },
  {
   "cell_type": "code",
   "execution_count": null,
   "metadata": {
    "execution": {
     "iopub.execute_input": "2023-12-28T20:37:15.903494Z",
     "iopub.status.busy": "2023-12-28T20:37:15.903091Z",
     "iopub.status.idle": "2023-12-28T20:39:03.388867Z",
     "shell.execute_reply": "2023-12-28T20:39:03.387721Z",
     "shell.execute_reply.started": "2023-12-28T20:37:15.903455Z"
    },
    "trusted": true
   },
   "outputs": [],
   "source": [
    "classifier= DecisionTreeClassifier(criterion='entropy', random_state=45)\n",
    "classifier.fit(x_train_tfidf_df, y_train)"
   ]
  },
  {
   "cell_type": "code",
   "execution_count": null,
   "metadata": {
    "execution": {
     "iopub.execute_input": "2023-12-28T20:39:03.390433Z",
     "iopub.status.busy": "2023-12-28T20:39:03.390149Z",
     "iopub.status.idle": "2023-12-28T20:39:04.542543Z",
     "shell.execute_reply": "2023-12-28T20:39:04.541661Z",
     "shell.execute_reply.started": "2023-12-28T20:39:03.390408Z"
    },
    "trusted": true
   },
   "outputs": [],
   "source": [
    "pred_tre = classifier.predict(x_test_tfidf_df)"
   ]
  },
  {
   "cell_type": "code",
   "execution_count": null,
   "metadata": {
    "execution": {
     "iopub.execute_input": "2023-12-28T20:39:04.544831Z",
     "iopub.status.busy": "2023-12-28T20:39:04.543976Z",
     "iopub.status.idle": "2023-12-28T20:39:04.732187Z",
     "shell.execute_reply": "2023-12-28T20:39:04.731082Z",
     "shell.execute_reply.started": "2023-12-28T20:39:04.544798Z"
    },
    "trusted": true
   },
   "outputs": [],
   "source": [
    "print(classification_report(pred_tre, y_test))"
   ]
  },
  {
   "cell_type": "code",
   "execution_count": null,
   "metadata": {
    "execution": {
     "iopub.execute_input": "2023-12-28T20:39:04.734027Z",
     "iopub.status.busy": "2023-12-28T20:39:04.733668Z",
     "iopub.status.idle": "2023-12-28T20:39:04.763244Z",
     "shell.execute_reply": "2023-12-28T20:39:04.762243Z",
     "shell.execute_reply.started": "2023-12-28T20:39:04.733997Z"
    },
    "trusted": true
   },
   "outputs": [],
   "source": [
    "confusion_matrix(y_test,pred_tre)"
   ]
  },
  {
   "cell_type": "code",
   "execution_count": null,
   "metadata": {
    "execution": {
     "iopub.execute_input": "2023-12-28T20:39:04.765698Z",
     "iopub.status.busy": "2023-12-28T20:39:04.765155Z",
     "iopub.status.idle": "2023-12-28T20:39:05.121994Z",
     "shell.execute_reply": "2023-12-28T20:39:05.120886Z",
     "shell.execute_reply.started": "2023-12-28T20:39:04.765665Z"
    },
    "trusted": true
   },
   "outputs": [],
   "source": [
    "cm = confusion_matrix(y_test, pred_tre, labels=classifier.classes_)\n",
    "disp = ConfusionMatrixDisplay(confusion_matrix=cm,display_labels=classifier.classes_)\n",
    "disp.plot()"
   ]
  },
  {
   "cell_type": "markdown",
   "metadata": {},
   "source": [
    "### Decision tree on balanced data"
   ]
  },
  {
   "cell_type": "code",
   "execution_count": null,
   "metadata": {
    "execution": {
     "iopub.execute_input": "2023-12-28T20:39:05.123870Z",
     "iopub.status.busy": "2023-12-28T20:39:05.123568Z",
     "iopub.status.idle": "2023-12-28T20:39:28.419480Z",
     "shell.execute_reply": "2023-12-28T20:39:28.418006Z",
     "shell.execute_reply.started": "2023-12-28T20:39:05.123840Z"
    },
    "trusted": true
   },
   "outputs": [],
   "source": [
    "classifier_bal= DecisionTreeClassifier(criterion='entropy', random_state=45)\n",
    "classifier_bal.fit(x_train_bal, y_train_bal)"
   ]
  },
  {
   "cell_type": "code",
   "execution_count": null,
   "metadata": {
    "execution": {
     "iopub.execute_input": "2023-12-28T20:39:28.422761Z",
     "iopub.status.busy": "2023-12-28T20:39:28.422380Z",
     "iopub.status.idle": "2023-12-28T20:39:28.452090Z",
     "shell.execute_reply": "2023-12-28T20:39:28.451070Z",
     "shell.execute_reply.started": "2023-12-28T20:39:28.422726Z"
    },
    "trusted": true
   },
   "outputs": [],
   "source": [
    "pred_tre_bal = classifier_bal.predict(x_test_bal)"
   ]
  },
  {
   "cell_type": "code",
   "execution_count": null,
   "metadata": {
    "execution": {
     "iopub.execute_input": "2023-12-28T20:39:28.454416Z",
     "iopub.status.busy": "2023-12-28T20:39:28.453966Z",
     "iopub.status.idle": "2023-12-28T20:39:29.030146Z",
     "shell.execute_reply": "2023-12-28T20:39:29.029108Z",
     "shell.execute_reply.started": "2023-12-28T20:39:28.454371Z"
    },
    "trusted": true
   },
   "outputs": [],
   "source": [
    "print(classification_report(pred_tre_bal, y_test_bal))"
   ]
  },
  {
   "cell_type": "code",
   "execution_count": null,
   "metadata": {
    "execution": {
     "iopub.execute_input": "2023-12-28T20:39:29.032090Z",
     "iopub.status.busy": "2023-12-28T20:39:29.031693Z",
     "iopub.status.idle": "2023-12-28T20:39:29.104385Z",
     "shell.execute_reply": "2023-12-28T20:39:29.103242Z",
     "shell.execute_reply.started": "2023-12-28T20:39:29.032034Z"
    },
    "trusted": true
   },
   "outputs": [],
   "source": [
    "confusion_matrix(y_test_bal,pred_tre_bal)"
   ]
  },
  {
   "cell_type": "code",
   "execution_count": null,
   "metadata": {
    "execution": {
     "iopub.execute_input": "2023-12-28T20:39:29.106434Z",
     "iopub.status.busy": "2023-12-28T20:39:29.106071Z",
     "iopub.status.idle": "2023-12-28T20:39:29.494990Z",
     "shell.execute_reply": "2023-12-28T20:39:29.493809Z",
     "shell.execute_reply.started": "2023-12-28T20:39:29.106403Z"
    },
    "trusted": true
   },
   "outputs": [],
   "source": [
    "cm = confusion_matrix(y_test_bal, pred_tre_bal, labels=classifier.classes_)\n",
    "disp = ConfusionMatrixDisplay(confusion_matrix=cm,display_labels=classifier.classes_)\n",
    "disp.plot()"
   ]
  },
  {
   "cell_type": "markdown",
   "metadata": {},
   "source": [
    "## 3) Naive Bayes"
   ]
  },
  {
   "cell_type": "markdown",
   "metadata": {},
   "source": [
    "### Naive bayes on imbalanced Data"
   ]
  },
  {
   "cell_type": "code",
   "execution_count": null,
   "metadata": {
    "execution": {
     "iopub.execute_input": "2023-12-28T20:39:29.497078Z",
     "iopub.status.busy": "2023-12-28T20:39:29.496715Z",
     "iopub.status.idle": "2023-12-28T20:39:29.506233Z",
     "shell.execute_reply": "2023-12-28T20:39:29.505112Z",
     "shell.execute_reply.started": "2023-12-28T20:39:29.497010Z"
    },
    "trusted": true
   },
   "outputs": [],
   "source": [
    "from sklearn.naive_bayes import GaussianNB\n",
    "nb = GaussianNB()"
   ]
  },
  {
   "cell_type": "code",
   "execution_count": null,
   "metadata": {
    "execution": {
     "iopub.execute_input": "2023-12-28T20:39:29.508133Z",
     "iopub.status.busy": "2023-12-28T20:39:29.507685Z",
     "iopub.status.idle": "2023-12-28T20:39:40.298751Z",
     "shell.execute_reply": "2023-12-28T20:39:40.297699Z",
     "shell.execute_reply.started": "2023-12-28T20:39:29.508098Z"
    },
    "trusted": true
   },
   "outputs": [],
   "source": [
    "nb.fit(x_train_tfidf_df, y_train)"
   ]
  },
  {
   "cell_type": "code",
   "execution_count": null,
   "metadata": {
    "execution": {
     "iopub.execute_input": "2023-12-28T20:39:40.300737Z",
     "iopub.status.busy": "2023-12-28T20:39:40.300426Z",
     "iopub.status.idle": "2023-12-28T20:39:45.638971Z",
     "shell.execute_reply": "2023-12-28T20:39:45.638031Z",
     "shell.execute_reply.started": "2023-12-28T20:39:40.300710Z"
    },
    "trusted": true
   },
   "outputs": [],
   "source": [
    "pred_nb = nb.predict(x_test_tfidf_df)"
   ]
  },
  {
   "cell_type": "code",
   "execution_count": null,
   "metadata": {
    "execution": {
     "iopub.execute_input": "2023-12-28T20:39:45.655747Z",
     "iopub.status.busy": "2023-12-28T20:39:45.654975Z",
     "iopub.status.idle": "2023-12-28T20:39:45.782257Z",
     "shell.execute_reply": "2023-12-28T20:39:45.781143Z",
     "shell.execute_reply.started": "2023-12-28T20:39:45.655711Z"
    },
    "trusted": true
   },
   "outputs": [],
   "source": [
    "print(classification_report(pred_nb, y_test))"
   ]
  },
  {
   "cell_type": "markdown",
   "metadata": {},
   "source": [
    "### Naive Bayes on Balanced Data"
   ]
  },
  {
   "cell_type": "code",
   "execution_count": null,
   "metadata": {
    "execution": {
     "iopub.execute_input": "2023-12-28T20:39:45.785110Z",
     "iopub.status.busy": "2023-12-28T20:39:45.784273Z",
     "iopub.status.idle": "2023-12-28T20:40:26.061997Z",
     "shell.execute_reply": "2023-12-28T20:40:26.060793Z",
     "shell.execute_reply.started": "2023-12-28T20:39:45.785045Z"
    },
    "trusted": true
   },
   "outputs": [],
   "source": [
    "import numpy as np\n",
    "\n",
    "# Assuming x_train_bal is your sparse matrix\n",
    "x_train_bal_dense = x_train_bal.toarray()\n",
    "\n",
    "# Then proceed with fitting the model using the dense array\n",
    "nb_bal = GaussianNB()\n",
    "nb_bal.fit(x_train_bal_dense, y_train_bal)"
   ]
  },
  {
   "cell_type": "code",
   "execution_count": null,
   "metadata": {
    "execution": {
     "iopub.execute_input": "2023-12-28T20:40:26.064039Z",
     "iopub.status.busy": "2023-12-28T20:40:26.063608Z",
     "iopub.status.idle": "2023-12-28T20:40:41.175128Z",
     "shell.execute_reply": "2023-12-28T20:40:41.173928Z",
     "shell.execute_reply.started": "2023-12-28T20:40:26.064007Z"
    },
    "trusted": true
   },
   "outputs": [],
   "source": [
    "pred_nb_bal = nb_bal.predict(x_test_bal.toarray())"
   ]
  },
  {
   "cell_type": "code",
   "execution_count": null,
   "metadata": {
    "execution": {
     "iopub.execute_input": "2023-12-28T20:40:41.177130Z",
     "iopub.status.busy": "2023-12-28T20:40:41.176732Z",
     "iopub.status.idle": "2023-12-28T20:40:41.562342Z",
     "shell.execute_reply": "2023-12-28T20:40:41.561524Z",
     "shell.execute_reply.started": "2023-12-28T20:40:41.177094Z"
    },
    "trusted": true
   },
   "outputs": [],
   "source": [
    "print(classification_report(pred_nb_bal, y_test_bal))"
   ]
  },
  {
   "cell_type": "markdown",
   "metadata": {},
   "source": [
    "## 4) RandomForest "
   ]
  },
  {
   "cell_type": "markdown",
   "metadata": {},
   "source": [
    "### RandomForest on Imbalanced Data"
   ]
  },
  {
   "cell_type": "code",
   "execution_count": null,
   "metadata": {
    "execution": {
     "iopub.execute_input": "2023-12-28T20:40:41.564419Z",
     "iopub.status.busy": "2023-12-28T20:40:41.563892Z",
     "iopub.status.idle": "2023-12-28T20:40:41.569558Z",
     "shell.execute_reply": "2023-12-28T20:40:41.568460Z",
     "shell.execute_reply.started": "2023-12-28T20:40:41.564386Z"
    },
    "trusted": true
   },
   "outputs": [],
   "source": [
    "from sklearn.ensemble import RandomForestClassifier"
   ]
  },
  {
   "cell_type": "code",
   "execution_count": null,
   "metadata": {
    "execution": {
     "iopub.execute_input": "2023-12-28T20:40:41.571187Z",
     "iopub.status.busy": "2023-12-28T20:40:41.570814Z",
     "iopub.status.idle": "2023-12-28T20:40:41.584460Z",
     "shell.execute_reply": "2023-12-28T20:40:41.583336Z",
     "shell.execute_reply.started": "2023-12-28T20:40:41.571154Z"
    },
    "trusted": true
   },
   "outputs": [],
   "source": [
    "x_train_tfidf_df.shape"
   ]
  },
  {
   "cell_type": "code",
   "execution_count": null,
   "metadata": {
    "execution": {
     "iopub.execute_input": "2023-12-28T20:40:41.586540Z",
     "iopub.status.busy": "2023-12-28T20:40:41.586179Z",
     "iopub.status.idle": "2023-12-28T20:40:41.596409Z",
     "shell.execute_reply": "2023-12-28T20:40:41.595201Z",
     "shell.execute_reply.started": "2023-12-28T20:40:41.586496Z"
    },
    "trusted": true
   },
   "outputs": [],
   "source": [
    "x_test_tfidf_df.shape"
   ]
  },
  {
   "cell_type": "code",
   "execution_count": null,
   "metadata": {
    "execution": {
     "iopub.execute_input": "2023-12-28T20:40:41.598598Z",
     "iopub.status.busy": "2023-12-28T20:40:41.598220Z",
     "iopub.status.idle": "2023-12-28T20:47:13.445289Z",
     "shell.execute_reply": "2023-12-28T20:47:13.444380Z",
     "shell.execute_reply.started": "2023-12-28T20:40:41.598555Z"
    },
    "trusted": true
   },
   "outputs": [],
   "source": [
    "ran=RandomForestClassifier(n_estimators=100)\n",
    "ran.fit(x_train_tfidf_df,y_train)"
   ]
  },
  {
   "cell_type": "code",
   "execution_count": null,
   "metadata": {
    "execution": {
     "iopub.execute_input": "2023-12-28T20:47:13.447498Z",
     "iopub.status.busy": "2023-12-28T20:47:13.447012Z",
     "iopub.status.idle": "2023-12-28T20:47:15.701976Z",
     "shell.execute_reply": "2023-12-28T20:47:15.701010Z",
     "shell.execute_reply.started": "2023-12-28T20:47:13.447456Z"
    },
    "trusted": true
   },
   "outputs": [],
   "source": [
    "perd_ran=ran.predict(x_test_tfidf_df)"
   ]
  },
  {
   "cell_type": "code",
   "execution_count": null,
   "metadata": {
    "execution": {
     "iopub.execute_input": "2023-12-28T20:47:15.703988Z",
     "iopub.status.busy": "2023-12-28T20:47:15.703429Z",
     "iopub.status.idle": "2023-12-28T20:47:15.710152Z",
     "shell.execute_reply": "2023-12-28T20:47:15.709069Z",
     "shell.execute_reply.started": "2023-12-28T20:47:15.703955Z"
    },
    "trusted": true
   },
   "outputs": [],
   "source": [
    "perd_ran.shape"
   ]
  },
  {
   "cell_type": "code",
   "execution_count": null,
   "metadata": {
    "execution": {
     "iopub.execute_input": "2023-12-28T20:47:15.711861Z",
     "iopub.status.busy": "2023-12-28T20:47:15.711539Z",
     "iopub.status.idle": "2023-12-28T20:47:15.746380Z",
     "shell.execute_reply": "2023-12-28T20:47:15.744883Z",
     "shell.execute_reply.started": "2023-12-28T20:47:15.711832Z"
    },
    "trusted": true
   },
   "outputs": [],
   "source": [
    "confusion_matrix(y_test,perd_ran)"
   ]
  },
  {
   "cell_type": "code",
   "execution_count": null,
   "metadata": {
    "execution": {
     "iopub.execute_input": "2023-12-28T20:47:15.749111Z",
     "iopub.status.busy": "2023-12-28T20:47:15.748576Z",
     "iopub.status.idle": "2023-12-28T20:47:16.124245Z",
     "shell.execute_reply": "2023-12-28T20:47:16.123077Z",
     "shell.execute_reply.started": "2023-12-28T20:47:15.749032Z"
    },
    "trusted": true
   },
   "outputs": [],
   "source": [
    "cm = confusion_matrix(y_test, perd_ran, labels=ran.classes_)\n",
    "disp = ConfusionMatrixDisplay(confusion_matrix=cm,display_labels=ran.classes_)\n",
    "disp.plot()"
   ]
  },
  {
   "cell_type": "code",
   "execution_count": null,
   "metadata": {
    "execution": {
     "iopub.execute_input": "2023-12-28T20:47:16.127250Z",
     "iopub.status.busy": "2023-12-28T20:47:16.125962Z",
     "iopub.status.idle": "2023-12-28T20:47:16.135497Z",
     "shell.execute_reply": "2023-12-28T20:47:16.134318Z",
     "shell.execute_reply.started": "2023-12-28T20:47:16.127201Z"
    },
    "trusted": true
   },
   "outputs": [],
   "source": [
    "y_test.shape , perd_ran.shape"
   ]
  },
  {
   "cell_type": "code",
   "execution_count": null,
   "metadata": {
    "execution": {
     "iopub.execute_input": "2023-12-28T20:47:16.137481Z",
     "iopub.status.busy": "2023-12-28T20:47:16.137034Z",
     "iopub.status.idle": "2023-12-28T20:47:16.329699Z",
     "shell.execute_reply": "2023-12-28T20:47:16.328537Z",
     "shell.execute_reply.started": "2023-12-28T20:47:16.137440Z"
    },
    "scrolled": true,
    "trusted": true
   },
   "outputs": [],
   "source": [
    "print(classification_report(perd_ran, y_test))"
   ]
  },
  {
   "cell_type": "markdown",
   "metadata": {},
   "source": [
    "### RandomForest on balanced Data"
   ]
  },
  {
   "cell_type": "code",
   "execution_count": null,
   "metadata": {
    "execution": {
     "iopub.execute_input": "2023-12-28T20:47:16.332857Z",
     "iopub.status.busy": "2023-12-28T20:47:16.332354Z",
     "iopub.status.idle": "2023-12-28T20:48:22.720271Z",
     "shell.execute_reply": "2023-12-28T20:48:22.719152Z",
     "shell.execute_reply.started": "2023-12-28T20:47:16.332806Z"
    },
    "trusted": true
   },
   "outputs": [],
   "source": [
    "ran_bal=RandomForestClassifier(n_estimators=100)\n",
    "ran_bal.fit(x_train_bal,y_train_bal)\n",
    "perd_ran_bal=ran_bal.predict(x_test_bal)"
   ]
  },
  {
   "cell_type": "code",
   "execution_count": null,
   "metadata": {
    "execution": {
     "iopub.execute_input": "2023-12-28T20:48:22.722443Z",
     "iopub.status.busy": "2023-12-28T20:48:22.721838Z",
     "iopub.status.idle": "2023-12-28T20:48:22.792990Z",
     "shell.execute_reply": "2023-12-28T20:48:22.791872Z",
     "shell.execute_reply.started": "2023-12-28T20:48:22.722402Z"
    },
    "trusted": true
   },
   "outputs": [],
   "source": [
    "confusion_matrix(y_test_bal,perd_ran_bal)"
   ]
  },
  {
   "cell_type": "code",
   "execution_count": null,
   "metadata": {
    "execution": {
     "iopub.execute_input": "2023-12-28T20:48:22.794763Z",
     "iopub.status.busy": "2023-12-28T20:48:22.794422Z",
     "iopub.status.idle": "2023-12-28T20:48:23.181886Z",
     "shell.execute_reply": "2023-12-28T20:48:23.180755Z",
     "shell.execute_reply.started": "2023-12-28T20:48:22.794733Z"
    },
    "trusted": true
   },
   "outputs": [],
   "source": [
    "cm = confusion_matrix(y_test_bal, perd_ran_bal, labels=ran.classes_)\n",
    "disp = ConfusionMatrixDisplay(confusion_matrix=cm,display_labels=ran.classes_)\n",
    "disp.plot()"
   ]
  },
  {
   "cell_type": "code",
   "execution_count": null,
   "metadata": {
    "execution": {
     "iopub.execute_input": "2023-12-28T20:48:23.184170Z",
     "iopub.status.busy": "2023-12-28T20:48:23.183779Z",
     "iopub.status.idle": "2023-12-28T20:48:23.744094Z",
     "shell.execute_reply": "2023-12-28T20:48:23.742771Z",
     "shell.execute_reply.started": "2023-12-28T20:48:23.184137Z"
    },
    "trusted": true
   },
   "outputs": [],
   "source": [
    "print(classification_report(perd_ran_bal, y_test_bal))"
   ]
  },
  {
   "cell_type": "markdown",
   "metadata": {},
   "source": [
    "### Saving the best model"
   ]
  },
  {
   "cell_type": "code",
   "execution_count": null,
   "metadata": {
    "execution": {
     "iopub.execute_input": "2023-12-28T20:48:23.745732Z",
     "iopub.status.busy": "2023-12-28T20:48:23.745417Z",
     "iopub.status.idle": "2023-12-28T20:48:23.751144Z",
     "shell.execute_reply": "2023-12-28T20:48:23.749768Z",
     "shell.execute_reply.started": "2023-12-28T20:48:23.745704Z"
    },
    "trusted": true
   },
   "outputs": [],
   "source": [
    "import pickle"
   ]
  },
  {
   "cell_type": "code",
   "execution_count": null,
   "metadata": {
    "execution": {
     "iopub.execute_input": "2023-12-28T20:48:23.752818Z",
     "iopub.status.busy": "2023-12-28T20:48:23.752508Z",
     "iopub.status.idle": "2023-12-28T20:48:23.767720Z",
     "shell.execute_reply": "2023-12-28T20:48:23.766532Z",
     "shell.execute_reply.started": "2023-12-28T20:48:23.752790Z"
    },
    "trusted": true
   },
   "outputs": [],
   "source": [
    "pickle.dump(log_bal, open('log_bal.pkl','wb'))"
   ]
  },
  {
   "cell_type": "code",
   "execution_count": null,
   "metadata": {
    "execution": {
     "iopub.execute_input": "2023-12-28T20:48:23.769666Z",
     "iopub.status.busy": "2023-12-28T20:48:23.769200Z",
     "iopub.status.idle": "2023-12-28T20:48:23.780299Z",
     "shell.execute_reply": "2023-12-28T20:48:23.779032Z",
     "shell.execute_reply.started": "2023-12-28T20:48:23.769633Z"
    },
    "trusted": true
   },
   "outputs": [],
   "source": [
    "with open('log_bal','wb') as f:\n",
    "  pickle.dump(log_bal,f)"
   ]
  },
  {
   "cell_type": "code",
   "execution_count": null,
   "metadata": {
    "execution": {
     "iopub.execute_input": "2023-12-28T20:48:23.782582Z",
     "iopub.status.busy": "2023-12-28T20:48:23.781908Z",
     "iopub.status.idle": "2023-12-28T20:48:23.790408Z",
     "shell.execute_reply": "2023-12-28T20:48:23.789043Z",
     "shell.execute_reply.started": "2023-12-28T20:48:23.782547Z"
    },
    "trusted": true
   },
   "outputs": [],
   "source": [
    "with open('log_bal','rb') as f:\n",
    "  mp=pickle.load(f)"
   ]
  },
  {
   "cell_type": "code",
   "execution_count": null,
   "metadata": {
    "execution": {
     "iopub.execute_input": "2023-12-28T20:48:23.792113Z",
     "iopub.status.busy": "2023-12-28T20:48:23.791740Z",
     "iopub.status.idle": "2023-12-28T20:48:23.800982Z",
     "shell.execute_reply": "2023-12-28T20:48:23.799813Z",
     "shell.execute_reply.started": "2023-12-28T20:48:23.792081Z"
    },
    "trusted": true
   },
   "outputs": [],
   "source": [
    "def predict(text):\n",
    "  input_text = [text]\n",
    "  text_to_vec = tfidf_vectorizer.transform(input_text).toarray() \n",
    "  prediction = mp.predict(text_to_vec)\n",
    "  return prediction"
   ]
  },
  {
   "cell_type": "code",
   "execution_count": null,
   "metadata": {
    "execution": {
     "iopub.execute_input": "2023-12-28T20:48:23.803579Z",
     "iopub.status.busy": "2023-12-28T20:48:23.803098Z",
     "iopub.status.idle": "2023-12-28T20:59:38.986136Z",
     "shell.execute_reply": "2023-12-28T20:59:38.984467Z",
     "shell.execute_reply.started": "2023-12-28T20:48:23.803538Z"
    },
    "trusted": true
   },
   "outputs": [],
   "source": [
    "User_input = input(\"Enter your text:\")\n",
    "output = predict(User_input)\n",
    "print(output)"
   ]
  }
 ],
 "metadata": {
  "kaggle": {
   "accelerator": "none",
   "dataSources": [
    {
     "datasetId": 2476732,
     "sourceId": 4200454,
     "sourceType": "datasetVersion"
    }
   ],
   "dockerImageVersionId": 30626,
   "isGpuEnabled": false,
   "isInternetEnabled": true,
   "language": "python",
   "sourceType": "notebook"
  },
  "kernelspec": {
   "display_name": "Python 3",
   "language": "python",
   "name": "python3"
  },
  "language_info": {
   "codemirror_mode": {
    "name": "ipython",
    "version": 3
   },
   "file_extension": ".py",
   "mimetype": "text/x-python",
   "name": "python",
   "nbconvert_exporter": "python",
   "pygments_lexer": "ipython3",
   "version": "3.12.4"
  },
  "papermill": {
   "default_parameters": {},
   "duration": 361.424173,
   "end_time": "2023-01-14T10:17:24.662760",
   "environment_variables": {},
   "exception": null,
   "input_path": "__notebook__.ipynb",
   "output_path": "__notebook__.ipynb",
   "parameters": {},
   "start_time": "2023-01-14T10:11:23.238587",
   "version": "2.3.4"
  }
 },
 "nbformat": 4,
 "nbformat_minor": 4
}
